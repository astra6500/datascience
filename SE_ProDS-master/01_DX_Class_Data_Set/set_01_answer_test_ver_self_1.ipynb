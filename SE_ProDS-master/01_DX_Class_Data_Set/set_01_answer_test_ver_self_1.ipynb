{
 "cells": [
  {
   "cell_type": "code",
   "execution_count": 4,
   "id": "945e20ec",
   "metadata": {},
   "outputs": [],
   "source": [
    "import pandas as pd\n",
    "from sklearn.ensemble import RandomForestRegressor"
   ]
  },
  {
   "cell_type": "code",
   "execution_count": 11,
   "id": "e7000642",
   "metadata": {},
   "outputs": [],
   "source": [
    "df=pd.read_csv(\"TV.csv\")\n",
    "#df_q1 = df.copy()"
   ]
  },
  {
   "cell_type": "code",
   "execution_count": 8,
   "id": "aa62c07a",
   "metadata": {},
   "outputs": [
    {
     "data": {
      "text/html": [
       "<div>\n",
       "<style scoped>\n",
       "    .dataframe tbody tr th:only-of-type {\n",
       "        vertical-align: middle;\n",
       "    }\n",
       "\n",
       "    .dataframe tbody tr th {\n",
       "        vertical-align: top;\n",
       "    }\n",
       "\n",
       "    .dataframe thead th {\n",
       "        text-align: right;\n",
       "    }\n",
       "</style>\n",
       "<table border=\"1\" class=\"dataframe\">\n",
       "  <thead>\n",
       "    <tr style=\"text-align: right;\">\n",
       "      <th></th>\n",
       "      <th>Product_Name</th>\n",
       "      <th>Stars</th>\n",
       "      <th>Ratings</th>\n",
       "      <th>Reviews</th>\n",
       "      <th>current_price</th>\n",
       "      <th>MRP</th>\n",
       "      <th>channel</th>\n",
       "      <th>Operating_system</th>\n",
       "      <th>Picture_quality</th>\n",
       "      <th>Speaker</th>\n",
       "      <th>Frequency</th>\n",
       "    </tr>\n",
       "  </thead>\n",
       "  <tbody>\n",
       "    <tr>\n",
       "      <th>0</th>\n",
       "      <td>Croma</td>\n",
       "      <td>4.2</td>\n",
       "      <td>1773</td>\n",
       "      <td>217</td>\n",
       "      <td>7990</td>\n",
       "      <td>20000</td>\n",
       "      <td>HD Ready 1366 x 768 Pixels</td>\n",
       "      <td>20 Speaker Output</td>\n",
       "      <td>60 Hz Refresh Rate</td>\n",
       "      <td>2 x HDMI | 2 x USB</td>\n",
       "      <td>1 Year Warranty</td>\n",
       "    </tr>\n",
       "  </tbody>\n",
       "</table>\n",
       "</div>"
      ],
      "text/plain": [
       "  Product_Name  Stars  Ratings  Reviews  current_price    MRP  \\\n",
       "0        Croma    4.2     1773      217           7990  20000   \n",
       "\n",
       "                      channel   Operating_system     Picture_quality  \\\n",
       "0  HD Ready 1366 x 768 Pixels  20 Speaker Output  60 Hz Refresh Rate   \n",
       "\n",
       "              Speaker        Frequency  \n",
       "0  2 x HDMI | 2 x USB  1 Year Warranty  "
      ]
     },
     "execution_count": 8,
     "metadata": {},
     "output_type": "execute_result"
    }
   ],
   "source": [
    "#df_q1.head(1)"
   ]
  },
  {
   "cell_type": "code",
   "execution_count": 13,
   "id": "06ba1122",
   "metadata": {},
   "outputs": [],
   "source": [
    "df_q1 = df[[\"Picture_quality\", \"Frequency\", \"Speaker\"]].copy()"
   ]
  },
  {
   "cell_type": "code",
   "execution_count": 15,
   "id": "92fa1c9d",
   "metadata": {},
   "outputs": [
    {
     "data": {
      "text/html": [
       "<div>\n",
       "<style scoped>\n",
       "    .dataframe tbody tr th:only-of-type {\n",
       "        vertical-align: middle;\n",
       "    }\n",
       "\n",
       "    .dataframe tbody tr th {\n",
       "        vertical-align: top;\n",
       "    }\n",
       "\n",
       "    .dataframe thead th {\n",
       "        text-align: right;\n",
       "    }\n",
       "</style>\n",
       "<table border=\"1\" class=\"dataframe\">\n",
       "  <thead>\n",
       "    <tr style=\"text-align: right;\">\n",
       "      <th></th>\n",
       "      <th>Picture_quality</th>\n",
       "      <th>Frequency</th>\n",
       "      <th>Speaker</th>\n",
       "    </tr>\n",
       "  </thead>\n",
       "  <tbody>\n",
       "    <tr>\n",
       "      <th>0</th>\n",
       "      <td>60 Hz Refresh Rate</td>\n",
       "      <td>1 Year Warranty</td>\n",
       "      <td>2 x HDMI | 2 x USB</td>\n",
       "    </tr>\n",
       "    <tr>\n",
       "      <th>1</th>\n",
       "      <td>HD Ready 1366 x 768 Pixels</td>\n",
       "      <td>60 Hz Refresh Rate</td>\n",
       "      <td>20 W Speaker Output</td>\n",
       "    </tr>\n",
       "    <tr>\n",
       "      <th>2</th>\n",
       "      <td>HD Ready 1366 x 768 Pixels</td>\n",
       "      <td>50 Hz Refresh Rate</td>\n",
       "      <td>10 W Speaker Output</td>\n",
       "    </tr>\n",
       "    <tr>\n",
       "      <th>3</th>\n",
       "      <td>HD Ready 1366 x 768 Pixels</td>\n",
       "      <td>60 Hz Refresh Rate</td>\n",
       "      <td>20 W Speaker Output</td>\n",
       "    </tr>\n",
       "    <tr>\n",
       "      <th>4</th>\n",
       "      <td>HD Ready 1366 x 768 Pixels</td>\n",
       "      <td>60 Hz Refresh Rate</td>\n",
       "      <td>20 W Speaker Output</td>\n",
       "    </tr>\n",
       "  </tbody>\n",
       "</table>\n",
       "</div>"
      ],
      "text/plain": [
       "              Picture_quality           Frequency              Speaker\n",
       "0          60 Hz Refresh Rate     1 Year Warranty   2 x HDMI | 2 x USB\n",
       "1  HD Ready 1366 x 768 Pixels  60 Hz Refresh Rate  20 W Speaker Output\n",
       "2  HD Ready 1366 x 768 Pixels  50 Hz Refresh Rate  10 W Speaker Output\n",
       "3  HD Ready 1366 x 768 Pixels  60 Hz Refresh Rate  20 W Speaker Output\n",
       "4  HD Ready 1366 x 768 Pixels  60 Hz Refresh Rate  20 W Speaker Output"
      ]
     },
     "execution_count": 15,
     "metadata": {},
     "output_type": "execute_result"
    }
   ],
   "source": [
    "df_q1.head()"
   ]
  },
  {
   "cell_type": "code",
   "execution_count": 20,
   "id": "87991ee5",
   "metadata": {},
   "outputs": [
    {
     "data": {
      "text/plain": [
       "77"
      ]
     },
     "execution_count": 20,
     "metadata": {},
     "output_type": "execute_result"
    }
   ],
   "source": [
    "n1=sum(df_q1[\"Picture_quality\"].str.contains(\"60 Hz Refresh Rate\"))\n",
    "n1"
   ]
  },
  {
   "cell_type": "code",
   "execution_count": null,
   "id": "71860d14",
   "metadata": {},
   "outputs": [],
   "source": []
  },
  {
   "cell_type": "code",
   "execution_count": null,
   "id": "6d586a9d",
   "metadata": {},
   "outputs": [],
   "source": []
  },
  {
   "cell_type": "code",
   "execution_count": 21,
   "id": "1d2e9893",
   "metadata": {},
   "outputs": [
    {
     "data": {
      "text/plain": [
       "423"
      ]
     },
     "execution_count": 21,
     "metadata": {},
     "output_type": "execute_result"
    }
   ],
   "source": [
    "n2 = sum(df_q1[\"Frequency\"].str.contains(\"60 Hz Refresh Rate\"))\n",
    "n2"
   ]
  },
  {
   "cell_type": "code",
   "execution_count": 22,
   "id": "3cefe95e",
   "metadata": {},
   "outputs": [
    {
     "data": {
      "text/plain": [
       "10"
      ]
     },
     "execution_count": 22,
     "metadata": {},
     "output_type": "execute_result"
    }
   ],
   "source": [
    "n3 = sum(df_q1[\"Speaker\"].str.contains(\"60 Hz Refresh Rate\"))\n",
    "n3"
   ]
  },
  {
   "cell_type": "code",
   "execution_count": 25,
   "id": "cf516f2f",
   "metadata": {},
   "outputs": [
    {
     "data": {
      "text/plain": [
       "510"
      ]
     },
     "execution_count": 25,
     "metadata": {},
     "output_type": "execute_result"
    }
   ],
   "source": [
    "ans_q1 = n1+n2+n3\n",
    "ans_q1"
   ]
  },
  {
   "cell_type": "code",
   "execution_count": 26,
   "id": "ed11aa0e",
   "metadata": {},
   "outputs": [
    {
     "data": {
      "text/html": [
       "<div>\n",
       "<style scoped>\n",
       "    .dataframe tbody tr th:only-of-type {\n",
       "        vertical-align: middle;\n",
       "    }\n",
       "\n",
       "    .dataframe tbody tr th {\n",
       "        vertical-align: top;\n",
       "    }\n",
       "\n",
       "    .dataframe thead th {\n",
       "        text-align: right;\n",
       "    }\n",
       "</style>\n",
       "<table border=\"1\" class=\"dataframe\">\n",
       "  <thead>\n",
       "    <tr style=\"text-align: right;\">\n",
       "      <th></th>\n",
       "      <th>Stars</th>\n",
       "      <th>Operating_system</th>\n",
       "      <th>channel</th>\n",
       "      <th>Picture_quality</th>\n",
       "    </tr>\n",
       "  </thead>\n",
       "  <tbody>\n",
       "    <tr>\n",
       "      <th>0</th>\n",
       "      <td>4.2</td>\n",
       "      <td>20 Speaker Output</td>\n",
       "      <td>HD Ready 1366 x 768 Pixels</td>\n",
       "      <td>60 Hz Refresh Rate</td>\n",
       "    </tr>\n",
       "  </tbody>\n",
       "</table>\n",
       "</div>"
      ],
      "text/plain": [
       "   Stars   Operating_system                     channel     Picture_quality\n",
       "0    4.2  20 Speaker Output  HD Ready 1366 x 768 Pixels  60 Hz Refresh Rate"
      ]
     },
     "execution_count": 26,
     "metadata": {},
     "output_type": "execute_result"
    }
   ],
   "source": [
    "###Q2\n",
    "\n",
    "df_q2 = df[[\"Stars\",\"Operating_system\", \"channel\", \"Picture_quality\"]].copy()\n",
    "df_q2.head(1)"
   ]
  },
  {
   "cell_type": "code",
   "execution_count": 44,
   "id": "0f34625f",
   "metadata": {},
   "outputs": [
    {
     "data": {
      "text/html": [
       "<div>\n",
       "<style scoped>\n",
       "    .dataframe tbody tr th:only-of-type {\n",
       "        vertical-align: middle;\n",
       "    }\n",
       "\n",
       "    .dataframe tbody tr th {\n",
       "        vertical-align: top;\n",
       "    }\n",
       "\n",
       "    .dataframe thead th {\n",
       "        text-align: right;\n",
       "    }\n",
       "</style>\n",
       "<table border=\"1\" class=\"dataframe\">\n",
       "  <thead>\n",
       "    <tr style=\"text-align: right;\">\n",
       "      <th></th>\n",
       "      <th>Stars</th>\n",
       "      <th>Operating_system</th>\n",
       "      <th>channel</th>\n",
       "      <th>Picture_quality</th>\n",
       "      <th>4K_1</th>\n",
       "      <th>4K_2</th>\n",
       "      <th>4K_3</th>\n",
       "      <th>4K_cnt</th>\n",
       "      <th>8K_1</th>\n",
       "      <th>8K_2</th>\n",
       "      <th>8K_3</th>\n",
       "      <th>8_cnt</th>\n",
       "      <th>8K_cnt</th>\n",
       "    </tr>\n",
       "  </thead>\n",
       "  <tbody>\n",
       "    <tr>\n",
       "      <th>0</th>\n",
       "      <td>4.2</td>\n",
       "      <td>20 Speaker Output</td>\n",
       "      <td>HD Ready 1366 x 768 Pixels</td>\n",
       "      <td>60 Hz Refresh Rate</td>\n",
       "      <td>0</td>\n",
       "      <td>0</td>\n",
       "      <td>0</td>\n",
       "      <td>0</td>\n",
       "      <td>0</td>\n",
       "      <td>0</td>\n",
       "      <td>0</td>\n",
       "      <td>0</td>\n",
       "      <td>0</td>\n",
       "    </tr>\n",
       "  </tbody>\n",
       "</table>\n",
       "</div>"
      ],
      "text/plain": [
       "   Stars   Operating_system                     channel     Picture_quality  \\\n",
       "0    4.2  20 Speaker Output  HD Ready 1366 x 768 Pixels  60 Hz Refresh Rate   \n",
       "\n",
       "   4K_1  4K_2  4K_3  4K_cnt  8K_1  8K_2  8K_3  8_cnt  8K_cnt  \n",
       "0     0     0     0       0     0     0     0      0       0  "
      ]
     },
     "execution_count": 44,
     "metadata": {},
     "output_type": "execute_result"
    }
   ],
   "source": [
    "df_q2[\"4K_1\"] = df[\"Operating_system\"].str.contains(\"4K\") + 0\n",
    "df_q2[\"4K_2\"] = df[\"channel\"].str.contains(\"4K\") + 0\n",
    "df_q2[\"4K_3\"] = df[\"Picture_quality\"].str.contains(\"4K\") + 0\n",
    "df_q2[\"4K_cnt\"] = df_q2[\"4K_1\"]+df_q2[\"4K_2\"]+df_q2[\"4K_3\"]\n",
    "\n",
    "df_q2[\"8K_1\"] = df[\"Operating_system\"].str.contains(\"8K\")+0\n",
    "df_q2[\"8K_2\"] = df[\"channel\"].str.contains(\"8K\") + 0\n",
    "df_q2[\"8K_3\"] = df[\"Picture_quality\"].str.contains(\"8K\") + 0\n",
    "df_q2[\"8K_cnt\"] = df_q2[\"8K_1\"]+df_q2[\"8K_2\"]+df_q2[\"8K_3\"]\n",
    "\n",
    "df_q2.head(1)"
   ]
  },
  {
   "cell_type": "code",
   "execution_count": null,
   "id": "1dd6391e",
   "metadata": {},
   "outputs": [],
   "source": []
  },
  {
   "cell_type": "code",
   "execution_count": 39,
   "id": "451986ca",
   "metadata": {},
   "outputs": [],
   "source": [
    "stars_4K = df_q2.loc[df_q2[\"4K_cnt\"] > 0, \"Stars\"].mean()\n",
    "stars_8K = df_q2.loc[df_q2[\"8K_cnt\"] > 0, \"Stars\"].mean()\n",
    "#stat_4K = df_q2.loc[df_q2[\"4K_cnt\"] > 0, \"Stars\"].mean()"
   ]
  },
  {
   "cell_type": "code",
   "execution_count": 42,
   "id": "ca966c52",
   "metadata": {},
   "outputs": [
    {
     "data": {
      "text/plain": [
       "0.38"
      ]
     },
     "execution_count": 42,
     "metadata": {},
     "output_type": "execute_result"
    }
   ],
   "source": [
    "ans_q2 = round(abs(stars_4K-stars_8K),2)\n",
    "ans_q2"
   ]
  },
  {
   "cell_type": "code",
   "execution_count": null,
   "id": "92daabdc",
   "metadata": {},
   "outputs": [],
   "source": [
    "############3"
   ]
  },
  {
   "cell_type": "code",
   "execution_count": 43,
   "id": "65c5336b",
   "metadata": {},
   "outputs": [],
   "source": [
    "df_q3 = df.copy()"
   ]
  },
  {
   "cell_type": "code",
   "execution_count": 49,
   "id": "0a633d6e",
   "metadata": {},
   "outputs": [
    {
     "data": {
      "text/plain": [
       "False    548\n",
       "True     118\n",
       "Name: channel, dtype: int64"
      ]
     },
     "execution_count": 49,
     "metadata": {},
     "output_type": "execute_result"
    }
   ],
   "source": [
    "df_q3[\"channel\"].str.contains(\"Pixel|Oper\").value_counts()"
   ]
  },
  {
   "cell_type": "code",
   "execution_count": 51,
   "id": "4595d150",
   "metadata": {},
   "outputs": [
    {
     "data": {
      "text/html": [
       "<div>\n",
       "<style scoped>\n",
       "    .dataframe tbody tr th:only-of-type {\n",
       "        vertical-align: middle;\n",
       "    }\n",
       "\n",
       "    .dataframe tbody tr th {\n",
       "        vertical-align: top;\n",
       "    }\n",
       "\n",
       "    .dataframe thead th {\n",
       "        text-align: right;\n",
       "    }\n",
       "</style>\n",
       "<table border=\"1\" class=\"dataframe\">\n",
       "  <thead>\n",
       "    <tr style=\"text-align: right;\">\n",
       "      <th></th>\n",
       "      <th>Product_Name</th>\n",
       "      <th>Stars</th>\n",
       "      <th>Ratings</th>\n",
       "      <th>Reviews</th>\n",
       "      <th>current_price</th>\n",
       "      <th>MRP</th>\n",
       "      <th>channel</th>\n",
       "      <th>Operating_system</th>\n",
       "      <th>Picture_quality</th>\n",
       "      <th>Speaker</th>\n",
       "      <th>Frequency</th>\n",
       "    </tr>\n",
       "  </thead>\n",
       "  <tbody>\n",
       "    <tr>\n",
       "      <th>0</th>\n",
       "      <td>Adsun</td>\n",
       "      <td>3.8</td>\n",
       "      <td>6742</td>\n",
       "      <td>930</td>\n",
       "      <td>8699</td>\n",
       "      <td>21999</td>\n",
       "      <td>Netflix|Disney+Hotstar|Youtube</td>\n",
       "      <td>Operating System: Android Based</td>\n",
       "      <td>HD Ready 1366 x 768 Pixels</td>\n",
       "      <td>20 W Speaker Output</td>\n",
       "      <td>60 Hz Refresh Rate</td>\n",
       "    </tr>\n",
       "    <tr>\n",
       "      <th>1</th>\n",
       "      <td>LG</td>\n",
       "      <td>4.4</td>\n",
       "      <td>38870</td>\n",
       "      <td>3443</td>\n",
       "      <td>16499</td>\n",
       "      <td>21990</td>\n",
       "      <td>Netflix|Prime Video|Disney+Hotstar|Youtube</td>\n",
       "      <td>Operating System: WebOS</td>\n",
       "      <td>HD Ready 1366 x 768 Pixels</td>\n",
       "      <td>10 W Speaker Output</td>\n",
       "      <td>50 Hz Refresh Rate</td>\n",
       "    </tr>\n",
       "  </tbody>\n",
       "</table>\n",
       "</div>"
      ],
      "text/plain": [
       "  Product_Name  Stars  Ratings  Reviews  current_price    MRP  \\\n",
       "0        Adsun    3.8     6742      930           8699  21999   \n",
       "1           LG    4.4    38870     3443          16499  21990   \n",
       "\n",
       "                                      channel  \\\n",
       "0              Netflix|Disney+Hotstar|Youtube   \n",
       "1  Netflix|Prime Video|Disney+Hotstar|Youtube   \n",
       "\n",
       "                  Operating_system             Picture_quality  \\\n",
       "0  Operating System: Android Based  HD Ready 1366 x 768 Pixels   \n",
       "1          Operating System: WebOS  HD Ready 1366 x 768 Pixels   \n",
       "\n",
       "               Speaker           Frequency  \n",
       "0  20 W Speaker Output  60 Hz Refresh Rate  \n",
       "1  10 W Speaker Output  50 Hz Refresh Rate  "
      ]
     },
     "execution_count": 51,
     "metadata": {},
     "output_type": "execute_result"
    }
   ],
   "source": [
    "df_q3 = df_q3[~df_q3[\"channel\"].str.contains(\"Pixel|Oper\")]\n",
    "df_q3 = df_q3.reset_index(drop = True)\n",
    "df_q3.head(2)"
   ]
  },
  {
   "cell_type": "code",
   "execution_count": 53,
   "id": "3aaf0500",
   "metadata": {},
   "outputs": [],
   "source": [
    "df_q3[\"x1\"] = df_q3[\"Reviews\"] / df_q3 [ \"Ratings\"]\n",
    "df_q3[\"x2\"] = df_q3[\"MRP\"]\n",
    "df_q3[\"x3\"] = df_q3[\"current_price\"] / df_q3 [ \"MRP\"]\n",
    "df_q3[\"x4\"] = df_q3[\"channel\"].str.contains(\"Netflix\") + 0\n",
    "df_q3[\"x5\"] = df_q3[\"channel\"].str.contains(\"Prime\") + 0\n",
    "df_q3[\"x6\"] = df_q3[\"Picture_quality\"].str.contains(\"4K|8K\") + 0"
   ]
  },
  {
   "cell_type": "code",
   "execution_count": 54,
   "id": "0890affe",
   "metadata": {},
   "outputs": [
    {
     "data": {
      "text/html": [
       "<div>\n",
       "<style scoped>\n",
       "    .dataframe tbody tr th:only-of-type {\n",
       "        vertical-align: middle;\n",
       "    }\n",
       "\n",
       "    .dataframe tbody tr th {\n",
       "        vertical-align: top;\n",
       "    }\n",
       "\n",
       "    .dataframe thead th {\n",
       "        text-align: right;\n",
       "    }\n",
       "</style>\n",
       "<table border=\"1\" class=\"dataframe\">\n",
       "  <thead>\n",
       "    <tr style=\"text-align: right;\">\n",
       "      <th></th>\n",
       "      <th>Stars</th>\n",
       "      <th>x1</th>\n",
       "      <th>x2</th>\n",
       "      <th>x3</th>\n",
       "      <th>x4</th>\n",
       "      <th>x5</th>\n",
       "      <th>x6</th>\n",
       "    </tr>\n",
       "  </thead>\n",
       "  <tbody>\n",
       "    <tr>\n",
       "      <th>0</th>\n",
       "      <td>3.8</td>\n",
       "      <td>0.137941</td>\n",
       "      <td>21999</td>\n",
       "      <td>0.395427</td>\n",
       "      <td>1</td>\n",
       "      <td>0</td>\n",
       "      <td>0</td>\n",
       "    </tr>\n",
       "    <tr>\n",
       "      <th>1</th>\n",
       "      <td>4.4</td>\n",
       "      <td>0.088577</td>\n",
       "      <td>21990</td>\n",
       "      <td>0.750296</td>\n",
       "      <td>1</td>\n",
       "      <td>1</td>\n",
       "      <td>0</td>\n",
       "    </tr>\n",
       "  </tbody>\n",
       "</table>\n",
       "</div>"
      ],
      "text/plain": [
       "   Stars        x1     x2        x3  x4  x5  x6\n",
       "0    3.8  0.137941  21999  0.395427   1   0   0\n",
       "1    4.4  0.088577  21990  0.750296   1   1   0"
      ]
     },
     "execution_count": 54,
     "metadata": {},
     "output_type": "execute_result"
    }
   ],
   "source": [
    "df_model = df_q3[[\"Stars\", \"x1\", \"x2\", \"x3\", \"x4\", \"x5\", \"x6\"]]\n",
    "df_model.head(2)"
   ]
  },
  {
   "cell_type": "code",
   "execution_count": 55,
   "id": "9d99dca1",
   "metadata": {},
   "outputs": [
    {
     "data": {
      "text/plain": [
       "Stars      0\n",
       "x1       351\n",
       "x2         0\n",
       "x3         0\n",
       "x4         0\n",
       "x5         0\n",
       "x6         0\n",
       "dtype: int64"
      ]
     },
     "execution_count": 55,
     "metadata": {},
     "output_type": "execute_result"
    }
   ],
   "source": [
    "df_model.isna().sum()"
   ]
  },
  {
   "cell_type": "code",
   "execution_count": 56,
   "id": "5d510491",
   "metadata": {},
   "outputs": [],
   "source": [
    "df_model = df_model.dropna()"
   ]
  },
  {
   "cell_type": "code",
   "execution_count": 57,
   "id": "24bbd59c",
   "metadata": {},
   "outputs": [
    {
     "data": {
      "text/plain": [
       "Stars    0\n",
       "x1       0\n",
       "x2       0\n",
       "x3       0\n",
       "x4       0\n",
       "x5       0\n",
       "x6       0\n",
       "dtype: int64"
      ]
     },
     "execution_count": 57,
     "metadata": {},
     "output_type": "execute_result"
    }
   ],
   "source": [
    "df_model.isna().sum()"
   ]
  },
  {
   "cell_type": "code",
   "execution_count": 74,
   "id": "6a4b0768",
   "metadata": {},
   "outputs": [
    {
     "data": {
      "text/plain": [
       "RandomForestRegressor(random_state=123)"
      ]
     },
     "execution_count": 74,
     "metadata": {},
     "output_type": "execute_result"
    }
   ],
   "source": [
    "df_model_rf = RandomForestRegressor (random_state = 123)\n",
    "df_model_rf.fit(X=df_model.drop(columns = \"Stars\"),\n",
    "                y=df_model[\"Stars\"])"
   ]
  },
  {
   "cell_type": "code",
   "execution_count": 80,
   "id": "59cd0a2c",
   "metadata": {},
   "outputs": [
    {
     "data": {
      "text/plain": [
       "array([0.31220617, 0.17383963, 0.4446912 , 0.02714087, 0.02400442,\n",
       "       0.01811773])"
      ]
     },
     "execution_count": 80,
     "metadata": {},
     "output_type": "execute_result"
    }
   ],
   "source": [
    "df_model_rf.feature_importances_"
   ]
  },
  {
   "cell_type": "code",
   "execution_count": 85,
   "id": "b8b1beb7",
   "metadata": {},
   "outputs": [
    {
     "data": {
      "text/html": [
       "<div>\n",
       "<style scoped>\n",
       "    .dataframe tbody tr th:only-of-type {\n",
       "        vertical-align: middle;\n",
       "    }\n",
       "\n",
       "    .dataframe tbody tr th {\n",
       "        vertical-align: top;\n",
       "    }\n",
       "\n",
       "    .dataframe thead th {\n",
       "        text-align: right;\n",
       "    }\n",
       "</style>\n",
       "<table border=\"1\" class=\"dataframe\">\n",
       "  <thead>\n",
       "    <tr style=\"text-align: right;\">\n",
       "      <th></th>\n",
       "      <th>x1</th>\n",
       "      <th>x2</th>\n",
       "      <th>x3</th>\n",
       "      <th>x4</th>\n",
       "      <th>x5</th>\n",
       "      <th>x6</th>\n",
       "    </tr>\n",
       "  </thead>\n",
       "  <tbody>\n",
       "    <tr>\n",
       "      <th>0</th>\n",
       "      <td>0.312206</td>\n",
       "      <td>0.17384</td>\n",
       "      <td>0.444691</td>\n",
       "      <td>0.027141</td>\n",
       "      <td>0.024004</td>\n",
       "      <td>0.018118</td>\n",
       "    </tr>\n",
       "  </tbody>\n",
       "</table>\n",
       "</div>"
      ],
      "text/plain": [
       "         x1       x2        x3        x4        x5        x6\n",
       "0  0.312206  0.17384  0.444691  0.027141  0.024004  0.018118"
      ]
     },
     "execution_count": 85,
     "metadata": {},
     "output_type": "execute_result"
    }
   ],
   "source": [
    "pd.DataFrame ([df_model_rf.feature_importances_], \n",
    "              columns = df_model.columns[1:])"
   ]
  },
  {
   "cell_type": "code",
   "execution_count": null,
   "id": "29918362",
   "metadata": {},
   "outputs": [],
   "source": []
  },
  {
   "cell_type": "code",
   "execution_count": null,
   "id": "0894d899",
   "metadata": {},
   "outputs": [],
   "source": []
  },
  {
   "cell_type": "code",
   "execution_count": null,
   "id": "ce6257c5",
   "metadata": {},
   "outputs": [],
   "source": []
  },
  {
   "cell_type": "code",
   "execution_count": null,
   "id": "f01944aa",
   "metadata": {},
   "outputs": [],
   "source": []
  },
  {
   "cell_type": "code",
   "execution_count": null,
   "id": "5872a29c",
   "metadata": {},
   "outputs": [],
   "source": []
  },
  {
   "cell_type": "code",
   "execution_count": null,
   "id": "b5d34972",
   "metadata": {},
   "outputs": [],
   "source": []
  }
 ],
 "metadata": {
  "kernelspec": {
   "display_name": "Python 3 (ipykernel)",
   "language": "python",
   "name": "python3"
  },
  "language_info": {
   "codemirror_mode": {
    "name": "ipython",
    "version": 3
   },
   "file_extension": ".py",
   "mimetype": "text/x-python",
   "name": "python",
   "nbconvert_exporter": "python",
   "pygments_lexer": "ipython3",
   "version": "3.9.13"
  }
 },
 "nbformat": 4,
 "nbformat_minor": 5
}
