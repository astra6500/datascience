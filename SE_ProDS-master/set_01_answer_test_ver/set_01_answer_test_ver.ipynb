{
 "cells": [
  {
   "cell_type": "code",
   "execution_count": 1,
   "id": "c7f92167",
   "metadata": {},
   "outputs": [],
   "source": [
    "import pandas as pd\n",
    "from sklearn.ensemble import RandomForestRegressor"
   ]
  },
  {
   "cell_type": "code",
   "execution_count": 3,
   "id": "a00bc33d",
   "metadata": {},
   "outputs": [
    {
     "data": {
      "text/plain": [
       "'1.4.4'"
      ]
     },
     "execution_count": 3,
     "metadata": {},
     "output_type": "execute_result"
    }
   ],
   "source": [
    "pd.__version__"
   ]
  },
  {
   "cell_type": "code",
   "execution_count": 10,
   "id": "64d38df3",
   "metadata": {},
   "outputs": [
    {
     "data": {
      "text/plain": [
       "(666, 11)"
      ]
     },
     "execution_count": 10,
     "metadata": {},
     "output_type": "execute_result"
    }
   ],
   "source": [
    "df = pd.read_csv(\"TV.csv\")\n",
    "df.shape"
   ]
  },
  {
   "cell_type": "code",
   "execution_count": 11,
   "id": "32fda1c0",
   "metadata": {},
   "outputs": [
    {
     "data": {
      "text/plain": [
       "array([dtype('O'), dtype('float64'), dtype('int64'), dtype('int64'),\n",
       "       dtype('int64'), dtype('int64'), dtype('O'), dtype('O'), dtype('O'),\n",
       "       dtype('O'), dtype('O')], dtype=object)"
      ]
     },
     "execution_count": 11,
     "metadata": {},
     "output_type": "execute_result"
    }
   ],
   "source": [
    "# df.dtypes\n",
    "df.dtypes.values"
   ]
  },
  {
   "cell_type": "code",
   "execution_count": 12,
   "id": "2537d83e",
   "metadata": {},
   "outputs": [
    {
     "data": {
      "text/html": [
       "<div>\n",
       "<style scoped>\n",
       "    .dataframe tbody tr th:only-of-type {\n",
       "        vertical-align: middle;\n",
       "    }\n",
       "\n",
       "    .dataframe tbody tr th {\n",
       "        vertical-align: top;\n",
       "    }\n",
       "\n",
       "    .dataframe thead th {\n",
       "        text-align: right;\n",
       "    }\n",
       "</style>\n",
       "<table border=\"1\" class=\"dataframe\">\n",
       "  <thead>\n",
       "    <tr style=\"text-align: right;\">\n",
       "      <th></th>\n",
       "      <th>Stars</th>\n",
       "      <th>Ratings</th>\n",
       "      <th>Reviews</th>\n",
       "      <th>current_price</th>\n",
       "      <th>MRP</th>\n",
       "    </tr>\n",
       "  </thead>\n",
       "  <tbody>\n",
       "    <tr>\n",
       "      <th>0</th>\n",
       "      <td>4.2</td>\n",
       "      <td>1773</td>\n",
       "      <td>217</td>\n",
       "      <td>7990</td>\n",
       "      <td>20000</td>\n",
       "    </tr>\n",
       "    <tr>\n",
       "      <th>1</th>\n",
       "      <td>3.8</td>\n",
       "      <td>6742</td>\n",
       "      <td>930</td>\n",
       "      <td>8699</td>\n",
       "      <td>21999</td>\n",
       "    </tr>\n",
       "    <tr>\n",
       "      <th>2</th>\n",
       "      <td>4.4</td>\n",
       "      <td>38870</td>\n",
       "      <td>3443</td>\n",
       "      <td>16499</td>\n",
       "      <td>21990</td>\n",
       "    </tr>\n",
       "  </tbody>\n",
       "</table>\n",
       "</div>"
      ],
      "text/plain": [
       "   Stars  Ratings  Reviews  current_price    MRP\n",
       "0    4.2     1773      217           7990  20000\n",
       "1    3.8     6742      930           8699  21999\n",
       "2    4.4    38870     3443          16499  21990"
      ]
     },
     "execution_count": 12,
     "metadata": {},
     "output_type": "execute_result"
    }
   ],
   "source": [
    "df.loc[:2, df.dtypes.astype(\"str\").str.contains(\"[0-9]\")]"
   ]
  },
  {
   "cell_type": "code",
   "execution_count": 13,
   "id": "7094f67a",
   "metadata": {},
   "outputs": [
    {
     "data": {
      "text/html": [
       "<div>\n",
       "<style scoped>\n",
       "    .dataframe tbody tr th:only-of-type {\n",
       "        vertical-align: middle;\n",
       "    }\n",
       "\n",
       "    .dataframe tbody tr th {\n",
       "        vertical-align: top;\n",
       "    }\n",
       "\n",
       "    .dataframe thead th {\n",
       "        text-align: right;\n",
       "    }\n",
       "</style>\n",
       "<table border=\"1\" class=\"dataframe\">\n",
       "  <thead>\n",
       "    <tr style=\"text-align: right;\">\n",
       "      <th></th>\n",
       "      <th>Product_Name</th>\n",
       "      <th>channel</th>\n",
       "      <th>Operating_system</th>\n",
       "      <th>Picture_quality</th>\n",
       "      <th>Speaker</th>\n",
       "      <th>Frequency</th>\n",
       "    </tr>\n",
       "  </thead>\n",
       "  <tbody>\n",
       "    <tr>\n",
       "      <th>0</th>\n",
       "      <td>Croma</td>\n",
       "      <td>HD Ready 1366 x 768 Pixels</td>\n",
       "      <td>20 Speaker Output</td>\n",
       "      <td>60 Hz Refresh Rate</td>\n",
       "      <td>2 x HDMI | 2 x USB</td>\n",
       "      <td>1 Year Warranty</td>\n",
       "    </tr>\n",
       "    <tr>\n",
       "      <th>1</th>\n",
       "      <td>Adsun</td>\n",
       "      <td>Netflix|Disney+Hotstar|Youtube</td>\n",
       "      <td>Operating System: Android Based</td>\n",
       "      <td>HD Ready 1366 x 768 Pixels</td>\n",
       "      <td>20 W Speaker Output</td>\n",
       "      <td>60 Hz Refresh Rate</td>\n",
       "    </tr>\n",
       "    <tr>\n",
       "      <th>2</th>\n",
       "      <td>LG</td>\n",
       "      <td>Netflix|Prime Video|Disney+Hotstar|Youtube</td>\n",
       "      <td>Operating System: WebOS</td>\n",
       "      <td>HD Ready 1366 x 768 Pixels</td>\n",
       "      <td>10 W Speaker Output</td>\n",
       "      <td>50 Hz Refresh Rate</td>\n",
       "    </tr>\n",
       "  </tbody>\n",
       "</table>\n",
       "</div>"
      ],
      "text/plain": [
       "  Product_Name                                     channel  \\\n",
       "0        Croma                  HD Ready 1366 x 768 Pixels   \n",
       "1        Adsun              Netflix|Disney+Hotstar|Youtube   \n",
       "2           LG  Netflix|Prime Video|Disney+Hotstar|Youtube   \n",
       "\n",
       "                  Operating_system             Picture_quality  \\\n",
       "0                20 Speaker Output          60 Hz Refresh Rate   \n",
       "1  Operating System: Android Based  HD Ready 1366 x 768 Pixels   \n",
       "2          Operating System: WebOS  HD Ready 1366 x 768 Pixels   \n",
       "\n",
       "               Speaker           Frequency  \n",
       "0   2 x HDMI | 2 x USB     1 Year Warranty  \n",
       "1  20 W Speaker Output  60 Hz Refresh Rate  \n",
       "2  10 W Speaker Output  50 Hz Refresh Rate  "
      ]
     },
     "execution_count": 13,
     "metadata": {},
     "output_type": "execute_result"
    }
   ],
   "source": [
    "df.loc[:2, ~df.dtypes.astype(\"str\").str.contains(\"[0-9]\")]"
   ]
  },
  {
   "cell_type": "markdown",
   "id": "1d0a36b7",
   "metadata": {},
   "source": [
    "### Q1."
   ]
  },
  {
   "cell_type": "code",
   "execution_count": 14,
   "id": "d7099d2d",
   "metadata": {},
   "outputs": [
    {
     "data": {
      "text/plain": [
       "Index(['Product_Name', 'Stars', 'Ratings', 'Reviews', 'current_price', 'MRP',\n",
       "       'channel', 'Operating_system', 'Picture_quality', 'Speaker',\n",
       "       'Frequency'],\n",
       "      dtype='object')"
      ]
     },
     "execution_count": 14,
     "metadata": {},
     "output_type": "execute_result"
    }
   ],
   "source": [
    "df.columns"
   ]
  },
  {
   "cell_type": "code",
   "execution_count": 15,
   "id": "c69cacdd",
   "metadata": {
    "scrolled": false
   },
   "outputs": [
    {
     "data": {
      "text/html": [
       "<div>\n",
       "<style scoped>\n",
       "    .dataframe tbody tr th:only-of-type {\n",
       "        vertical-align: middle;\n",
       "    }\n",
       "\n",
       "    .dataframe tbody tr th {\n",
       "        vertical-align: top;\n",
       "    }\n",
       "\n",
       "    .dataframe thead th {\n",
       "        text-align: right;\n",
       "    }\n",
       "</style>\n",
       "<table border=\"1\" class=\"dataframe\">\n",
       "  <thead>\n",
       "    <tr style=\"text-align: right;\">\n",
       "      <th></th>\n",
       "      <th>Frequency</th>\n",
       "      <th>Picture_quality</th>\n",
       "      <th>Speaker</th>\n",
       "    </tr>\n",
       "  </thead>\n",
       "  <tbody>\n",
       "    <tr>\n",
       "      <th>0</th>\n",
       "      <td>1 Year Warranty</td>\n",
       "      <td>60 Hz Refresh Rate</td>\n",
       "      <td>2 x HDMI | 2 x USB</td>\n",
       "    </tr>\n",
       "    <tr>\n",
       "      <th>1</th>\n",
       "      <td>60 Hz Refresh Rate</td>\n",
       "      <td>HD Ready 1366 x 768 Pixels</td>\n",
       "      <td>20 W Speaker Output</td>\n",
       "    </tr>\n",
       "  </tbody>\n",
       "</table>\n",
       "</div>"
      ],
      "text/plain": [
       "            Frequency             Picture_quality              Speaker\n",
       "0     1 Year Warranty          60 Hz Refresh Rate   2 x HDMI | 2 x USB\n",
       "1  60 Hz Refresh Rate  HD Ready 1366 x 768 Pixels  20 W Speaker Output"
      ]
     },
     "execution_count": 15,
     "metadata": {},
     "output_type": "execute_result"
    }
   ],
   "source": [
    "df_q1 = df[[\"Frequency\", \"Picture_quality\", \"Speaker\"]].copy()\n",
    "df_q1.head(2)"
   ]
  },
  {
   "cell_type": "code",
   "execution_count": 29,
   "id": "67037a5a",
   "metadata": {},
   "outputs": [
    {
     "data": {
      "text/plain": [
       "19     60 Hz Refresh Rate\n",
       "31     50 Hz Refresh Rate\n",
       "41    200 Hz Refresh Rate\n",
       "46    120 Hz Refresh Rate\n",
       "47    100 Hz Refresh Rate\n",
       "dtype: object"
      ]
     },
     "execution_count": 29,
     "metadata": {},
     "output_type": "execute_result"
    }
   ],
   "source": [
    "# df_q1[\"Frequency\"].unique()\n",
    "# ser_u = pd.Series(df_q1[\"Frequency\"].unique())\n",
    "# ser_u = pd.Series(df_q1[\"Picture_quality\"].unique())\n",
    "ser_u = pd.Series(df_q1[\"Speaker\"].unique())\n",
    "# ser_u[ser_u.str.contains(\"Hz\")]\n",
    "#ser_u[ser_u.str.contains(\"[0-9]{2,3} Hz\")]\n",
    "ser_u[ser_u.str.contains(\"[0-9] Hz\")]"
   ]
  },
  {
   "cell_type": "code",
   "execution_count": 30,
   "id": "8929a1f1",
   "metadata": {},
   "outputs": [
    {
     "data": {
      "text/plain": [
       "5"
      ]
     },
     "execution_count": 30,
     "metadata": {},
     "output_type": "execute_result"
    }
   ],
   "source": [
    "ser_u.str.contains(\"Hz\").sum()"
   ]
  },
  {
   "cell_type": "code",
   "execution_count": 19,
   "id": "de5ad09a",
   "metadata": {},
   "outputs": [
    {
     "data": {
      "text/plain": [
       "423"
      ]
     },
     "execution_count": 19,
     "metadata": {},
     "output_type": "execute_result"
    }
   ],
   "source": [
    "sum(df_q1[\"Frequency\"] == \"60 Hz Refresh Rate\")"
   ]
  },
  {
   "cell_type": "code",
   "execution_count": 20,
   "id": "4602a002",
   "metadata": {},
   "outputs": [],
   "source": [
    "df_q1[\"Hz_1\"] = df_q1[\"Frequency\"      ].str.contains(\"60 Hz\") + 0\n",
    "df_q1[\"Hz_2\"] = df_q1[\"Picture_quality\"].str.contains(\"60 Hz\") + 0\n",
    "df_q1[\"Hz_3\"] = df_q1[\"Speaker\"        ].str.contains(\"60 Hz\") + 0"
   ]
  },
  {
   "cell_type": "code",
   "execution_count": 21,
   "id": "49767a1f",
   "metadata": {},
   "outputs": [
    {
     "data": {
      "text/html": [
       "<div>\n",
       "<style scoped>\n",
       "    .dataframe tbody tr th:only-of-type {\n",
       "        vertical-align: middle;\n",
       "    }\n",
       "\n",
       "    .dataframe tbody tr th {\n",
       "        vertical-align: top;\n",
       "    }\n",
       "\n",
       "    .dataframe thead th {\n",
       "        text-align: right;\n",
       "    }\n",
       "</style>\n",
       "<table border=\"1\" class=\"dataframe\">\n",
       "  <thead>\n",
       "    <tr style=\"text-align: right;\">\n",
       "      <th></th>\n",
       "      <th>Frequency</th>\n",
       "      <th>Picture_quality</th>\n",
       "      <th>Speaker</th>\n",
       "      <th>Hz_1</th>\n",
       "      <th>Hz_2</th>\n",
       "      <th>Hz_3</th>\n",
       "    </tr>\n",
       "  </thead>\n",
       "  <tbody>\n",
       "    <tr>\n",
       "      <th>0</th>\n",
       "      <td>1 Year Warranty</td>\n",
       "      <td>60 Hz Refresh Rate</td>\n",
       "      <td>2 x HDMI | 2 x USB</td>\n",
       "      <td>0</td>\n",
       "      <td>1</td>\n",
       "      <td>0</td>\n",
       "    </tr>\n",
       "    <tr>\n",
       "      <th>1</th>\n",
       "      <td>60 Hz Refresh Rate</td>\n",
       "      <td>HD Ready 1366 x 768 Pixels</td>\n",
       "      <td>20 W Speaker Output</td>\n",
       "      <td>1</td>\n",
       "      <td>0</td>\n",
       "      <td>0</td>\n",
       "    </tr>\n",
       "  </tbody>\n",
       "</table>\n",
       "</div>"
      ],
      "text/plain": [
       "            Frequency             Picture_quality              Speaker  Hz_1  \\\n",
       "0     1 Year Warranty          60 Hz Refresh Rate   2 x HDMI | 2 x USB     0   \n",
       "1  60 Hz Refresh Rate  HD Ready 1366 x 768 Pixels  20 W Speaker Output     1   \n",
       "\n",
       "   Hz_2  Hz_3  \n",
       "0     1     0  \n",
       "1     0     0  "
      ]
     },
     "execution_count": 21,
     "metadata": {},
     "output_type": "execute_result"
    }
   ],
   "source": [
    "df_q1.head(2)"
   ]
  },
  {
   "cell_type": "code",
   "execution_count": 26,
   "id": "d1bb35f1",
   "metadata": {},
   "outputs": [
    {
     "data": {
      "text/html": [
       "<div>\n",
       "<style scoped>\n",
       "    .dataframe tbody tr th:only-of-type {\n",
       "        vertical-align: middle;\n",
       "    }\n",
       "\n",
       "    .dataframe tbody tr th {\n",
       "        vertical-align: top;\n",
       "    }\n",
       "\n",
       "    .dataframe thead th {\n",
       "        text-align: right;\n",
       "    }\n",
       "</style>\n",
       "<table border=\"1\" class=\"dataframe\">\n",
       "  <thead>\n",
       "    <tr style=\"text-align: right;\">\n",
       "      <th></th>\n",
       "      <th>Frequency</th>\n",
       "      <th>Picture_quality</th>\n",
       "      <th>Speaker</th>\n",
       "      <th>Hz_1</th>\n",
       "      <th>Hz_2</th>\n",
       "      <th>Hz_3</th>\n",
       "      <th>Hz_cnt</th>\n",
       "    </tr>\n",
       "  </thead>\n",
       "  <tbody>\n",
       "    <tr>\n",
       "      <th>0</th>\n",
       "      <td>1 Year Warranty</td>\n",
       "      <td>60 Hz Refresh Rate</td>\n",
       "      <td>2 x HDMI | 2 x USB</td>\n",
       "      <td>0</td>\n",
       "      <td>1</td>\n",
       "      <td>0</td>\n",
       "      <td>1</td>\n",
       "    </tr>\n",
       "    <tr>\n",
       "      <th>1</th>\n",
       "      <td>60 Hz Refresh Rate</td>\n",
       "      <td>HD Ready 1366 x 768 Pixels</td>\n",
       "      <td>20 W Speaker Output</td>\n",
       "      <td>1</td>\n",
       "      <td>0</td>\n",
       "      <td>0</td>\n",
       "      <td>1</td>\n",
       "    </tr>\n",
       "    <tr>\n",
       "      <th>2</th>\n",
       "      <td>50 Hz Refresh Rate</td>\n",
       "      <td>HD Ready 1366 x 768 Pixels</td>\n",
       "      <td>10 W Speaker Output</td>\n",
       "      <td>0</td>\n",
       "      <td>0</td>\n",
       "      <td>0</td>\n",
       "      <td>0</td>\n",
       "    </tr>\n",
       "    <tr>\n",
       "      <th>3</th>\n",
       "      <td>60 Hz Refresh Rate</td>\n",
       "      <td>HD Ready 1366 x 768 Pixels</td>\n",
       "      <td>20 W Speaker Output</td>\n",
       "      <td>1</td>\n",
       "      <td>0</td>\n",
       "      <td>0</td>\n",
       "      <td>1</td>\n",
       "    </tr>\n",
       "    <tr>\n",
       "      <th>4</th>\n",
       "      <td>60 Hz Refresh Rate</td>\n",
       "      <td>HD Ready 1366 x 768 Pixels</td>\n",
       "      <td>20 W Speaker Output</td>\n",
       "      <td>1</td>\n",
       "      <td>0</td>\n",
       "      <td>0</td>\n",
       "      <td>1</td>\n",
       "    </tr>\n",
       "    <tr>\n",
       "      <th>5</th>\n",
       "      <td>60 Hz Refresh Rate</td>\n",
       "      <td>HD Ready 1366 x 768 Pixels</td>\n",
       "      <td>20 W Speaker Output</td>\n",
       "      <td>1</td>\n",
       "      <td>0</td>\n",
       "      <td>0</td>\n",
       "      <td>1</td>\n",
       "    </tr>\n",
       "    <tr>\n",
       "      <th>6</th>\n",
       "      <td>60 Hz Refresh Rate</td>\n",
       "      <td>HD Ready 1366 x 768 Pixels</td>\n",
       "      <td>20 W Speaker Output</td>\n",
       "      <td>1</td>\n",
       "      <td>0</td>\n",
       "      <td>0</td>\n",
       "      <td>1</td>\n",
       "    </tr>\n",
       "    <tr>\n",
       "      <th>7</th>\n",
       "      <td>60 Hz Refresh Rate</td>\n",
       "      <td>HD Ready 1366 x 768 Pixels</td>\n",
       "      <td>20 Speaker Output</td>\n",
       "      <td>1</td>\n",
       "      <td>0</td>\n",
       "      <td>0</td>\n",
       "      <td>1</td>\n",
       "    </tr>\n",
       "    <tr>\n",
       "      <th>8</th>\n",
       "      <td>60 Hz Refresh Rate</td>\n",
       "      <td>Ultra HD (4K) 3840 x 2160 Pixels</td>\n",
       "      <td>20 W Speaker Output</td>\n",
       "      <td>1</td>\n",
       "      <td>0</td>\n",
       "      <td>0</td>\n",
       "      <td>1</td>\n",
       "    </tr>\n",
       "    <tr>\n",
       "      <th>9</th>\n",
       "      <td>60 Hz Refresh Rate</td>\n",
       "      <td>Full HD 1920 x 1080 Pixels</td>\n",
       "      <td>20 W Speaker Output</td>\n",
       "      <td>1</td>\n",
       "      <td>0</td>\n",
       "      <td>0</td>\n",
       "      <td>1</td>\n",
       "    </tr>\n",
       "  </tbody>\n",
       "</table>\n",
       "</div>"
      ],
      "text/plain": [
       "            Frequency                   Picture_quality              Speaker  \\\n",
       "0     1 Year Warranty                60 Hz Refresh Rate   2 x HDMI | 2 x USB   \n",
       "1  60 Hz Refresh Rate        HD Ready 1366 x 768 Pixels  20 W Speaker Output   \n",
       "2  50 Hz Refresh Rate        HD Ready 1366 x 768 Pixels  10 W Speaker Output   \n",
       "3  60 Hz Refresh Rate        HD Ready 1366 x 768 Pixels  20 W Speaker Output   \n",
       "4  60 Hz Refresh Rate        HD Ready 1366 x 768 Pixels  20 W Speaker Output   \n",
       "5  60 Hz Refresh Rate        HD Ready 1366 x 768 Pixels  20 W Speaker Output   \n",
       "6  60 Hz Refresh Rate        HD Ready 1366 x 768 Pixels  20 W Speaker Output   \n",
       "7  60 Hz Refresh Rate        HD Ready 1366 x 768 Pixels    20 Speaker Output   \n",
       "8  60 Hz Refresh Rate  Ultra HD (4K) 3840 x 2160 Pixels  20 W Speaker Output   \n",
       "9  60 Hz Refresh Rate        Full HD 1920 x 1080 Pixels  20 W Speaker Output   \n",
       "\n",
       "   Hz_1  Hz_2  Hz_3  Hz_cnt  \n",
       "0     0     1     0       1  \n",
       "1     1     0     0       1  \n",
       "2     0     0     0       0  \n",
       "3     1     0     0       1  \n",
       "4     1     0     0       1  \n",
       "5     1     0     0       1  \n",
       "6     1     0     0       1  \n",
       "7     1     0     0       1  \n",
       "8     1     0     0       1  \n",
       "9     1     0     0       1  "
      ]
     },
     "execution_count": 26,
     "metadata": {},
     "output_type": "execute_result"
    }
   ],
   "source": [
    "df_q1[\"Hz_cnt\"] = df_q1.loc[:, \"Hz_1\":\"Hz_3\"].sum(axis = 1)\n",
    "df_q1.head(10)"
   ]
  },
  {
   "cell_type": "code",
   "execution_count": 23,
   "id": "af369c38",
   "metadata": {},
   "outputs": [
    {
     "data": {
      "text/plain": [
       "1    510\n",
       "0    156\n",
       "Name: Hz_cnt, dtype: int64"
      ]
     },
     "execution_count": 23,
     "metadata": {},
     "output_type": "execute_result"
    }
   ],
   "source": [
    "df_q1[\"Hz_cnt\"].value_counts()"
   ]
  },
  {
   "cell_type": "code",
   "execution_count": 24,
   "id": "d47dd3d0",
   "metadata": {},
   "outputs": [
    {
     "data": {
      "text/plain": [
       "510"
      ]
     },
     "execution_count": 24,
     "metadata": {},
     "output_type": "execute_result"
    }
   ],
   "source": [
    "df_q1[\"Hz_cnt\"].value_counts()[1]"
   ]
  },
  {
   "cell_type": "code",
   "execution_count": 34,
   "id": "3eeb2d7b",
   "metadata": {},
   "outputs": [
    {
     "data": {
      "text/plain": [
       "510"
      ]
     },
     "execution_count": 34,
     "metadata": {},
     "output_type": "execute_result"
    }
   ],
   "source": [
    "df.loc[:, \"Picture_quality\":].apply(lambda x: x.str.contains(\"60 Hz\").sum(), \n",
    "                                    axis = 1).value_counts()[1]"
   ]
  },
  {
   "cell_type": "code",
   "execution_count": null,
   "id": "e7a3383f",
   "metadata": {},
   "outputs": [],
   "source": []
  },
  {
   "cell_type": "code",
   "execution_count": 37,
   "id": "99736fcf",
   "metadata": {},
   "outputs": [
    {
     "data": {
      "text/plain": [
       "510"
      ]
     },
     "execution_count": 37,
     "metadata": {},
     "output_type": "execute_result"
    }
   ],
   "source": [
    "df_q1.loc[:, \"Frequency\":].apply(lambda x: x.str.contains(\"60 Hz\").sum(), \n",
    "                                    axis = 1).value_counts()[1]"
   ]
  },
  {
   "cell_type": "code",
   "execution_count": null,
   "id": "447b62dd",
   "metadata": {},
   "outputs": [],
   "source": []
  },
  {
   "cell_type": "code",
   "execution_count": null,
   "id": "d6a0b9f6",
   "metadata": {},
   "outputs": [],
   "source": []
  },
  {
   "cell_type": "code",
   "execution_count": null,
   "id": "f62a3a8b",
   "metadata": {},
   "outputs": [],
   "source": []
  },
  {
   "cell_type": "markdown",
   "id": "95cb9a5c",
   "metadata": {},
   "source": [
    "### Q2."
   ]
  },
  {
   "cell_type": "code",
   "execution_count": 39,
   "id": "37893ca6",
   "metadata": {},
   "outputs": [
    {
     "data": {
      "text/html": [
       "<div>\n",
       "<style scoped>\n",
       "    .dataframe tbody tr th:only-of-type {\n",
       "        vertical-align: middle;\n",
       "    }\n",
       "\n",
       "    .dataframe tbody tr th {\n",
       "        vertical-align: top;\n",
       "    }\n",
       "\n",
       "    .dataframe thead th {\n",
       "        text-align: right;\n",
       "    }\n",
       "</style>\n",
       "<table border=\"1\" class=\"dataframe\">\n",
       "  <thead>\n",
       "    <tr style=\"text-align: right;\">\n",
       "      <th></th>\n",
       "      <th>Stars</th>\n",
       "      <th>channel</th>\n",
       "      <th>Operating_system</th>\n",
       "      <th>Picture_quality</th>\n",
       "    </tr>\n",
       "  </thead>\n",
       "  <tbody>\n",
       "    <tr>\n",
       "      <th>0</th>\n",
       "      <td>4.2</td>\n",
       "      <td>HD Ready 1366 x 768 Pixels</td>\n",
       "      <td>20 Speaker Output</td>\n",
       "      <td>60 Hz Refresh Rate</td>\n",
       "    </tr>\n",
       "    <tr>\n",
       "      <th>1</th>\n",
       "      <td>3.8</td>\n",
       "      <td>Netflix|Disney+Hotstar|Youtube</td>\n",
       "      <td>Operating System: Android Based</td>\n",
       "      <td>HD Ready 1366 x 768 Pixels</td>\n",
       "    </tr>\n",
       "  </tbody>\n",
       "</table>\n",
       "</div>"
      ],
      "text/plain": [
       "   Stars                         channel                 Operating_system  \\\n",
       "0    4.2      HD Ready 1366 x 768 Pixels                20 Speaker Output   \n",
       "1    3.8  Netflix|Disney+Hotstar|Youtube  Operating System: Android Based   \n",
       "\n",
       "              Picture_quality  \n",
       "0          60 Hz Refresh Rate  \n",
       "1  HD Ready 1366 x 768 Pixels  "
      ]
     },
     "execution_count": 39,
     "metadata": {},
     "output_type": "execute_result"
    }
   ],
   "source": [
    "df_q2 = df[[\"Stars\", 'channel', 'Operating_system', 'Picture_quality']].copy()\n",
    "df_q2.head(2)"
   ]
  },
  {
   "cell_type": "code",
   "execution_count": 40,
   "id": "64e660d7",
   "metadata": {},
   "outputs": [
    {
     "data": {
      "text/plain": [
       "2                      Ultra HD (4K) 3840 x 2160 Pixels\n",
       "4     Ultra HD (4K) Crystal 4K FE UHD (3840 x 2160) ...\n",
       "7                        Ultra HD (4K) 3840×2160 Pixels\n",
       "9                      Ultra HD (4K) 3860 x 2160 Pixels\n",
       "10                       Ultra HD (4K) 3840X2160 Pixels\n",
       "12                     Ultra HD (4K) 3840 × 2160 Pixels\n",
       "13                       Ultra HD (4K) 3840*2160 Pixels\n",
       "14                       Ultra HD (4K) 3840x2160 Pixels\n",
       "28                     Ultra HD (8K) 7680 x 4320 Pixels\n",
       "34                     Ultra HD (4K) 3840 � 2160 Pixels\n",
       "dtype: object"
      ]
     },
     "execution_count": 40,
     "metadata": {},
     "output_type": "execute_result"
    }
   ],
   "source": [
    "# ser_u = pd.Series(df_q2[\"channel\"].unique())\n",
    "# ser_u = pd.Series(df_q2[\"Operating_system\"].unique())\n",
    "ser_u = pd.Series(df_q2[\"Picture_quality\"].unique())\n",
    "ser_u[ser_u.str.contains(\"4K|8K\")]"
   ]
  },
  {
   "cell_type": "code",
   "execution_count": 42,
   "id": "f3b297e4",
   "metadata": {},
   "outputs": [],
   "source": [
    "df_q2[\"4K_1\"] = df_q2[\"channel\"         ].str.contains(\"4K\") + 0\n",
    "df_q2[\"4K_2\"] = df_q2[\"Operating_system\"].str.contains(\"4K\") + 0\n",
    "df_q2[\"4K_3\"] = df_q2[\"Picture_quality\" ].str.contains(\"4K\") + 0\n",
    "df_q2[\"4K_cnt\"] = df_q2[\"4K_1\"] + df_q2[\"4K_2\"] + df_q2[\"4K_3\"]\n",
    "\n",
    "df_q2[\"8K_1\"] = df_q2[\"channel\"         ].str.contains(\"8K\") + 0\n",
    "df_q2[\"8K_2\"] = df_q2[\"Operating_system\"].str.contains(\"8K\") + 0\n",
    "df_q2[\"8K_3\"] = df_q2[\"Picture_quality\" ].str.contains(\"8K\") + 0\n",
    "df_q2[\"8K_cnt\"] = df_q2[\"8K_1\"] + df_q2[\"8K_2\"] + df_q2[\"8K_3\"]"
   ]
  },
  {
   "cell_type": "code",
   "execution_count": 44,
   "id": "c5939e6d",
   "metadata": {},
   "outputs": [
    {
     "data": {
      "text/html": [
       "<div>\n",
       "<style scoped>\n",
       "    .dataframe tbody tr th:only-of-type {\n",
       "        vertical-align: middle;\n",
       "    }\n",
       "\n",
       "    .dataframe tbody tr th {\n",
       "        vertical-align: top;\n",
       "    }\n",
       "\n",
       "    .dataframe thead th {\n",
       "        text-align: right;\n",
       "    }\n",
       "</style>\n",
       "<table border=\"1\" class=\"dataframe\">\n",
       "  <thead>\n",
       "    <tr style=\"text-align: right;\">\n",
       "      <th></th>\n",
       "      <th>Stars</th>\n",
       "      <th>channel</th>\n",
       "      <th>Operating_system</th>\n",
       "      <th>Picture_quality</th>\n",
       "      <th>4K_1</th>\n",
       "      <th>4K_2</th>\n",
       "      <th>4K_3</th>\n",
       "      <th>4K_cnt</th>\n",
       "      <th>8K_1</th>\n",
       "      <th>8K_2</th>\n",
       "      <th>8K_3</th>\n",
       "      <th>8K_cnt</th>\n",
       "    </tr>\n",
       "  </thead>\n",
       "  <tbody>\n",
       "    <tr>\n",
       "      <th>0</th>\n",
       "      <td>4.2</td>\n",
       "      <td>HD Ready 1366 x 768 Pixels</td>\n",
       "      <td>20 Speaker Output</td>\n",
       "      <td>60 Hz Refresh Rate</td>\n",
       "      <td>0</td>\n",
       "      <td>0</td>\n",
       "      <td>0</td>\n",
       "      <td>0</td>\n",
       "      <td>0</td>\n",
       "      <td>0</td>\n",
       "      <td>0</td>\n",
       "      <td>0</td>\n",
       "    </tr>\n",
       "    <tr>\n",
       "      <th>1</th>\n",
       "      <td>3.8</td>\n",
       "      <td>Netflix|Disney+Hotstar|Youtube</td>\n",
       "      <td>Operating System: Android Based</td>\n",
       "      <td>HD Ready 1366 x 768 Pixels</td>\n",
       "      <td>0</td>\n",
       "      <td>0</td>\n",
       "      <td>0</td>\n",
       "      <td>0</td>\n",
       "      <td>0</td>\n",
       "      <td>0</td>\n",
       "      <td>0</td>\n",
       "      <td>0</td>\n",
       "    </tr>\n",
       "    <tr>\n",
       "      <th>2</th>\n",
       "      <td>4.4</td>\n",
       "      <td>Netflix|Prime Video|Disney+Hotstar|Youtube</td>\n",
       "      <td>Operating System: WebOS</td>\n",
       "      <td>HD Ready 1366 x 768 Pixels</td>\n",
       "      <td>0</td>\n",
       "      <td>0</td>\n",
       "      <td>0</td>\n",
       "      <td>0</td>\n",
       "      <td>0</td>\n",
       "      <td>0</td>\n",
       "      <td>0</td>\n",
       "      <td>0</td>\n",
       "    </tr>\n",
       "    <tr>\n",
       "      <th>3</th>\n",
       "      <td>4.3</td>\n",
       "      <td>Netflix|Prime Video|Disney+Hotstar|Youtube</td>\n",
       "      <td>Operating System: Android</td>\n",
       "      <td>HD Ready 1366 x 768 Pixels</td>\n",
       "      <td>0</td>\n",
       "      <td>0</td>\n",
       "      <td>0</td>\n",
       "      <td>0</td>\n",
       "      <td>0</td>\n",
       "      <td>0</td>\n",
       "      <td>0</td>\n",
       "      <td>0</td>\n",
       "    </tr>\n",
       "    <tr>\n",
       "      <th>4</th>\n",
       "      <td>4.3</td>\n",
       "      <td>Netflix|Prime Video|Disney+Hotstar|Youtube</td>\n",
       "      <td>Operating System: Android</td>\n",
       "      <td>HD Ready 1366 x 768 Pixels</td>\n",
       "      <td>0</td>\n",
       "      <td>0</td>\n",
       "      <td>0</td>\n",
       "      <td>0</td>\n",
       "      <td>0</td>\n",
       "      <td>0</td>\n",
       "      <td>0</td>\n",
       "      <td>0</td>\n",
       "    </tr>\n",
       "  </tbody>\n",
       "</table>\n",
       "</div>"
      ],
      "text/plain": [
       "   Stars                                     channel  \\\n",
       "0    4.2                  HD Ready 1366 x 768 Pixels   \n",
       "1    3.8              Netflix|Disney+Hotstar|Youtube   \n",
       "2    4.4  Netflix|Prime Video|Disney+Hotstar|Youtube   \n",
       "3    4.3  Netflix|Prime Video|Disney+Hotstar|Youtube   \n",
       "4    4.3  Netflix|Prime Video|Disney+Hotstar|Youtube   \n",
       "\n",
       "                  Operating_system             Picture_quality  4K_1  4K_2  \\\n",
       "0                20 Speaker Output          60 Hz Refresh Rate     0     0   \n",
       "1  Operating System: Android Based  HD Ready 1366 x 768 Pixels     0     0   \n",
       "2          Operating System: WebOS  HD Ready 1366 x 768 Pixels     0     0   \n",
       "3        Operating System: Android  HD Ready 1366 x 768 Pixels     0     0   \n",
       "4        Operating System: Android  HD Ready 1366 x 768 Pixels     0     0   \n",
       "\n",
       "   4K_3  4K_cnt  8K_1  8K_2  8K_3  8K_cnt  \n",
       "0     0       0     0     0     0       0  \n",
       "1     0       0     0     0     0       0  \n",
       "2     0       0     0     0     0       0  \n",
       "3     0       0     0     0     0       0  \n",
       "4     0       0     0     0     0       0  "
      ]
     },
     "execution_count": 44,
     "metadata": {},
     "output_type": "execute_result"
    }
   ],
   "source": [
    "df_q2.head()"
   ]
  },
  {
   "cell_type": "code",
   "execution_count": 41,
   "id": "73153e4f",
   "metadata": {},
   "outputs": [
    {
     "data": {
      "text/plain": [
       "(3.2180821917808218, 3.6)"
      ]
     },
     "execution_count": 41,
     "metadata": {},
     "output_type": "execute_result"
    }
   ],
   "source": [
    "stat_4K = df_q2.loc[df_q2[\"4K_cnt\"] > 0, \"Stars\"].mean()\n",
    "stat_8K = df_q2.loc[df_q2[\"8K_cnt\"] > 0, \"Stars\"].mean()\n",
    "stat_4K, stat_8K"
   ]
  },
  {
   "cell_type": "code",
   "execution_count": 42,
   "id": "75dbb2a7",
   "metadata": {},
   "outputs": [
    {
     "data": {
      "text/plain": [
       "0.38"
      ]
     },
     "execution_count": 42,
     "metadata": {},
     "output_type": "execute_result"
    }
   ],
   "source": [
    "round(abs(stat_4K - stat_8K), 2)"
   ]
  },
  {
   "cell_type": "code",
   "execution_count": null,
   "id": "5d5c20fe",
   "metadata": {},
   "outputs": [],
   "source": [
    "df_q2.loc[df_q2[\"channel\"] == \"4K\", ]"
   ]
  },
  {
   "cell_type": "code",
   "execution_count": 46,
   "id": "3f46f4a8",
   "metadata": {},
   "outputs": [
    {
     "data": {
      "text/html": [
       "<div>\n",
       "<style scoped>\n",
       "    .dataframe tbody tr th:only-of-type {\n",
       "        vertical-align: middle;\n",
       "    }\n",
       "\n",
       "    .dataframe tbody tr th {\n",
       "        vertical-align: top;\n",
       "    }\n",
       "\n",
       "    .dataframe thead th {\n",
       "        text-align: right;\n",
       "    }\n",
       "</style>\n",
       "<table border=\"1\" class=\"dataframe\">\n",
       "  <thead>\n",
       "    <tr style=\"text-align: right;\">\n",
       "      <th>4K_cnt</th>\n",
       "      <th>0</th>\n",
       "      <th>1</th>\n",
       "    </tr>\n",
       "    <tr>\n",
       "      <th>8K_cnt</th>\n",
       "      <th></th>\n",
       "      <th></th>\n",
       "    </tr>\n",
       "  </thead>\n",
       "  <tbody>\n",
       "    <tr>\n",
       "      <td>0</td>\n",
       "      <td>3.074333</td>\n",
       "      <td>3.218082</td>\n",
       "    </tr>\n",
       "    <tr>\n",
       "      <td>1</td>\n",
       "      <td>3.600000</td>\n",
       "      <td>NaN</td>\n",
       "    </tr>\n",
       "  </tbody>\n",
       "</table>\n",
       "</div>"
      ],
      "text/plain": [
       "4K_cnt         0         1\n",
       "8K_cnt                    \n",
       "0       3.074333  3.218082\n",
       "1       3.600000       NaN"
      ]
     },
     "execution_count": 46,
     "metadata": {},
     "output_type": "execute_result"
    }
   ],
   "source": [
    "pd.crosstab(df_q2[\"4K_cnt\"], df_q2[\"8K_cnt\"], values = df_q2[\"Stars\"],\n",
    "            aggfunc = \"mean\")"
   ]
  },
  {
   "cell_type": "code",
   "execution_count": 56,
   "id": "addd91bc",
   "metadata": {},
   "outputs": [
    {
     "data": {
      "text/plain": [
       "array([3.07433333,        nan])"
      ]
     },
     "execution_count": 56,
     "metadata": {},
     "output_type": "execute_result"
    }
   ],
   "source": [
    "pd.crosstab(df_q2[\"4K_cnt\"], df_q2[\"8K_cnt\"], values = df_q2[\"Stars\"],\n",
    "            aggfunc = \"mean\").values.diagonal()"
   ]
  },
  {
   "cell_type": "markdown",
   "id": "8c78fe3e",
   "metadata": {},
   "source": [
    "### Q3."
   ]
  },
  {
   "cell_type": "code",
   "execution_count": 45,
   "id": "1a21e439",
   "metadata": {},
   "outputs": [
    {
     "data": {
      "text/plain": [
       "0       True\n",
       "1      False\n",
       "2      False\n",
       "3      False\n",
       "4      False\n",
       "       ...  \n",
       "661     True\n",
       "662    False\n",
       "663     True\n",
       "664    False\n",
       "665     True\n",
       "Name: channel, Length: 666, dtype: bool"
      ]
     },
     "execution_count": 45,
     "metadata": {},
     "output_type": "execute_result"
    }
   ],
   "source": [
    "df_q3 = df.copy()\n",
    "df_q3[\"channel\"].str.contains(\"Pixel|Oper\")"
   ]
  },
  {
   "cell_type": "code",
   "execution_count": 46,
   "id": "4a8371e2",
   "metadata": {},
   "outputs": [
    {
     "data": {
      "text/plain": [
       "array(['HD Ready 1366 x 768 Pixels', 'Netflix|Disney+Hotstar|Youtube',\n",
       "       'Netflix|Prime Video|Disney+Hotstar|Youtube',\n",
       "       'HD Ready 1366 X 768 Pixels'], dtype=object)"
      ]
     },
     "execution_count": 46,
     "metadata": {},
     "output_type": "execute_result"
    }
   ],
   "source": [
    "df_q3[\"channel\"].unique()[:4]"
   ]
  },
  {
   "cell_type": "code",
   "execution_count": 47,
   "id": "89c2e1cb",
   "metadata": {},
   "outputs": [
    {
     "data": {
      "text/html": [
       "<div>\n",
       "<style scoped>\n",
       "    .dataframe tbody tr th:only-of-type {\n",
       "        vertical-align: middle;\n",
       "    }\n",
       "\n",
       "    .dataframe tbody tr th {\n",
       "        vertical-align: top;\n",
       "    }\n",
       "\n",
       "    .dataframe thead th {\n",
       "        text-align: right;\n",
       "    }\n",
       "</style>\n",
       "<table border=\"1\" class=\"dataframe\">\n",
       "  <thead>\n",
       "    <tr style=\"text-align: right;\">\n",
       "      <th></th>\n",
       "      <th>Product_Name</th>\n",
       "      <th>Stars</th>\n",
       "      <th>Ratings</th>\n",
       "      <th>Reviews</th>\n",
       "      <th>current_price</th>\n",
       "      <th>MRP</th>\n",
       "      <th>channel</th>\n",
       "      <th>Operating_system</th>\n",
       "      <th>Picture_quality</th>\n",
       "      <th>Speaker</th>\n",
       "      <th>Frequency</th>\n",
       "    </tr>\n",
       "  </thead>\n",
       "  <tbody>\n",
       "    <tr>\n",
       "      <th>0</th>\n",
       "      <td>Adsun</td>\n",
       "      <td>3.8</td>\n",
       "      <td>6742</td>\n",
       "      <td>930</td>\n",
       "      <td>8699</td>\n",
       "      <td>21999</td>\n",
       "      <td>Netflix|Disney+Hotstar|Youtube</td>\n",
       "      <td>Operating System: Android Based</td>\n",
       "      <td>HD Ready 1366 x 768 Pixels</td>\n",
       "      <td>20 W Speaker Output</td>\n",
       "      <td>60 Hz Refresh Rate</td>\n",
       "    </tr>\n",
       "    <tr>\n",
       "      <th>1</th>\n",
       "      <td>LG</td>\n",
       "      <td>4.4</td>\n",
       "      <td>38870</td>\n",
       "      <td>3443</td>\n",
       "      <td>16499</td>\n",
       "      <td>21990</td>\n",
       "      <td>Netflix|Prime Video|Disney+Hotstar|Youtube</td>\n",
       "      <td>Operating System: WebOS</td>\n",
       "      <td>HD Ready 1366 x 768 Pixels</td>\n",
       "      <td>10 W Speaker Output</td>\n",
       "      <td>50 Hz Refresh Rate</td>\n",
       "    </tr>\n",
       "  </tbody>\n",
       "</table>\n",
       "</div>"
      ],
      "text/plain": [
       "  Product_Name  Stars  Ratings  Reviews  current_price    MRP  \\\n",
       "0        Adsun    3.8     6742      930           8699  21999   \n",
       "1           LG    4.4    38870     3443          16499  21990   \n",
       "\n",
       "                                      channel  \\\n",
       "0              Netflix|Disney+Hotstar|Youtube   \n",
       "1  Netflix|Prime Video|Disney+Hotstar|Youtube   \n",
       "\n",
       "                  Operating_system             Picture_quality  \\\n",
       "0  Operating System: Android Based  HD Ready 1366 x 768 Pixels   \n",
       "1          Operating System: WebOS  HD Ready 1366 x 768 Pixels   \n",
       "\n",
       "               Speaker           Frequency  \n",
       "0  20 W Speaker Output  60 Hz Refresh Rate  \n",
       "1  10 W Speaker Output  50 Hz Refresh Rate  "
      ]
     },
     "execution_count": 47,
     "metadata": {},
     "output_type": "execute_result"
    }
   ],
   "source": [
    "df_q3 = df_q3.loc[~df_q3[\"channel\"].str.contains(\"Pixel|Oper\"), ]\n",
    "df_q3 = df_q3.reset_index(drop = True)\n",
    "df_q3.head(2)"
   ]
  },
  {
   "cell_type": "code",
   "execution_count": 48,
   "id": "92533e98",
   "metadata": {},
   "outputs": [],
   "source": [
    "df_q3[\"x1\"] = df_q3[\"Reviews\"] / df_q3[\"Ratings\"]\n",
    "df_q3[\"x2\"] = df_q3[\"MRP\"]\n",
    "df_q3[\"x3\"] = df_q3[\"current_price\"] / df_q3[\"MRP\"]\n",
    "df_q3[\"x4\"] = df_q3[\"channel\"].str.contains(\"Netflix\") + 0\n",
    "df_q3[\"x5\"] = df_q3[\"channel\"].str.contains(\"Prime Video\") + 0\n",
    "df_q3[\"x6\"] = df_q3[\"Picture_quality\"].str.contains(\"4K|8K\") + 0"
   ]
  },
  {
   "cell_type": "code",
   "execution_count": 49,
   "id": "d17f702b",
   "metadata": {},
   "outputs": [
    {
     "data": {
      "text/html": [
       "<div>\n",
       "<style scoped>\n",
       "    .dataframe tbody tr th:only-of-type {\n",
       "        vertical-align: middle;\n",
       "    }\n",
       "\n",
       "    .dataframe tbody tr th {\n",
       "        vertical-align: top;\n",
       "    }\n",
       "\n",
       "    .dataframe thead th {\n",
       "        text-align: right;\n",
       "    }\n",
       "</style>\n",
       "<table border=\"1\" class=\"dataframe\">\n",
       "  <thead>\n",
       "    <tr style=\"text-align: right;\">\n",
       "      <th></th>\n",
       "      <th>Product_Name</th>\n",
       "      <th>Stars</th>\n",
       "      <th>Ratings</th>\n",
       "      <th>Reviews</th>\n",
       "      <th>current_price</th>\n",
       "      <th>MRP</th>\n",
       "      <th>channel</th>\n",
       "      <th>Operating_system</th>\n",
       "      <th>Picture_quality</th>\n",
       "      <th>Speaker</th>\n",
       "      <th>Frequency</th>\n",
       "      <th>x1</th>\n",
       "      <th>x2</th>\n",
       "      <th>x3</th>\n",
       "      <th>x4</th>\n",
       "      <th>x5</th>\n",
       "      <th>x6</th>\n",
       "    </tr>\n",
       "  </thead>\n",
       "  <tbody>\n",
       "    <tr>\n",
       "      <th>0</th>\n",
       "      <td>Adsun</td>\n",
       "      <td>3.8</td>\n",
       "      <td>6742</td>\n",
       "      <td>930</td>\n",
       "      <td>8699</td>\n",
       "      <td>21999</td>\n",
       "      <td>Netflix|Disney+Hotstar|Youtube</td>\n",
       "      <td>Operating System: Android Based</td>\n",
       "      <td>HD Ready 1366 x 768 Pixels</td>\n",
       "      <td>20 W Speaker Output</td>\n",
       "      <td>60 Hz Refresh Rate</td>\n",
       "      <td>0.137941</td>\n",
       "      <td>21999</td>\n",
       "      <td>0.395427</td>\n",
       "      <td>1</td>\n",
       "      <td>0</td>\n",
       "      <td>0</td>\n",
       "    </tr>\n",
       "    <tr>\n",
       "      <th>1</th>\n",
       "      <td>LG</td>\n",
       "      <td>4.4</td>\n",
       "      <td>38870</td>\n",
       "      <td>3443</td>\n",
       "      <td>16499</td>\n",
       "      <td>21990</td>\n",
       "      <td>Netflix|Prime Video|Disney+Hotstar|Youtube</td>\n",
       "      <td>Operating System: WebOS</td>\n",
       "      <td>HD Ready 1366 x 768 Pixels</td>\n",
       "      <td>10 W Speaker Output</td>\n",
       "      <td>50 Hz Refresh Rate</td>\n",
       "      <td>0.088577</td>\n",
       "      <td>21990</td>\n",
       "      <td>0.750296</td>\n",
       "      <td>1</td>\n",
       "      <td>1</td>\n",
       "      <td>0</td>\n",
       "    </tr>\n",
       "    <tr>\n",
       "      <th>2</th>\n",
       "      <td>OnePlus</td>\n",
       "      <td>4.3</td>\n",
       "      <td>101256</td>\n",
       "      <td>9189</td>\n",
       "      <td>16499</td>\n",
       "      <td>21999</td>\n",
       "      <td>Netflix|Prime Video|Disney+Hotstar|Youtube</td>\n",
       "      <td>Operating System: Android</td>\n",
       "      <td>HD Ready 1366 x 768 Pixels</td>\n",
       "      <td>20 W Speaker Output</td>\n",
       "      <td>60 Hz Refresh Rate</td>\n",
       "      <td>0.090750</td>\n",
       "      <td>21999</td>\n",
       "      <td>0.749989</td>\n",
       "      <td>1</td>\n",
       "      <td>1</td>\n",
       "      <td>0</td>\n",
       "    </tr>\n",
       "    <tr>\n",
       "      <th>3</th>\n",
       "      <td>Xiaomi</td>\n",
       "      <td>4.3</td>\n",
       "      <td>3120</td>\n",
       "      <td>305</td>\n",
       "      <td>15499</td>\n",
       "      <td>24999</td>\n",
       "      <td>Netflix|Prime Video|Disney+Hotstar|Youtube</td>\n",
       "      <td>Operating System: Android</td>\n",
       "      <td>HD Ready 1366 x 768 Pixels</td>\n",
       "      <td>20 W Speaker Output</td>\n",
       "      <td>60 Hz Refresh Rate</td>\n",
       "      <td>0.097756</td>\n",
       "      <td>24999</td>\n",
       "      <td>0.619985</td>\n",
       "      <td>1</td>\n",
       "      <td>1</td>\n",
       "      <td>0</td>\n",
       "    </tr>\n",
       "    <tr>\n",
       "      <th>4</th>\n",
       "      <td>SAMSUNG</td>\n",
       "      <td>4.4</td>\n",
       "      <td>53639</td>\n",
       "      <td>4811</td>\n",
       "      <td>15999</td>\n",
       "      <td>22900</td>\n",
       "      <td>Netflix|Disney+Hotstar|Youtube</td>\n",
       "      <td>Operating System: Tizen</td>\n",
       "      <td>HD Ready 1366 x 768 Pixels</td>\n",
       "      <td>20 W Speaker Output</td>\n",
       "      <td>60 Hz Refresh Rate</td>\n",
       "      <td>0.089692</td>\n",
       "      <td>22900</td>\n",
       "      <td>0.698646</td>\n",
       "      <td>1</td>\n",
       "      <td>0</td>\n",
       "      <td>0</td>\n",
       "    </tr>\n",
       "    <tr>\n",
       "      <th>5</th>\n",
       "      <td>OnePlus</td>\n",
       "      <td>4.3</td>\n",
       "      <td>101256</td>\n",
       "      <td>9189</td>\n",
       "      <td>15499</td>\n",
       "      <td>19999</td>\n",
       "      <td>Netflix|Prime Video|Disney+Hotstar|Youtube</td>\n",
       "      <td>Operating System: Android</td>\n",
       "      <td>HD Ready 1366 x 768 Pixels</td>\n",
       "      <td>20 W Speaker Output</td>\n",
       "      <td>60 Hz Refresh Rate</td>\n",
       "      <td>0.090750</td>\n",
       "      <td>19999</td>\n",
       "      <td>0.774989</td>\n",
       "      <td>1</td>\n",
       "      <td>1</td>\n",
       "      <td>0</td>\n",
       "    </tr>\n",
       "    <tr>\n",
       "      <th>6</th>\n",
       "      <td>Croma</td>\n",
       "      <td>4.2</td>\n",
       "      <td>0</td>\n",
       "      <td>0</td>\n",
       "      <td>11990</td>\n",
       "      <td>25000</td>\n",
       "      <td>Netflix|Prime Video|Disney+Hotstar|Youtube</td>\n",
       "      <td>Operating System: Android</td>\n",
       "      <td>HD Ready 1366 x 768 Pixels</td>\n",
       "      <td>20 Speaker Output</td>\n",
       "      <td>60 Hz Refresh Rate</td>\n",
       "      <td>NaN</td>\n",
       "      <td>25000</td>\n",
       "      <td>0.479600</td>\n",
       "      <td>1</td>\n",
       "      <td>1</td>\n",
       "      <td>0</td>\n",
       "    </tr>\n",
       "    <tr>\n",
       "      <th>7</th>\n",
       "      <td>LG</td>\n",
       "      <td>4.4</td>\n",
       "      <td>5830</td>\n",
       "      <td>698</td>\n",
       "      <td>32990</td>\n",
       "      <td>59990</td>\n",
       "      <td>Netflix|Prime Video|Disney+Hotstar|Youtube</td>\n",
       "      <td>Operating System: WebOS</td>\n",
       "      <td>Ultra HD (4K) 3840 x 2160 Pixels</td>\n",
       "      <td>20 W Speaker Output</td>\n",
       "      <td>60 Hz Refresh Rate</td>\n",
       "      <td>0.119726</td>\n",
       "      <td>59990</td>\n",
       "      <td>0.549925</td>\n",
       "      <td>1</td>\n",
       "      <td>1</td>\n",
       "      <td>1</td>\n",
       "    </tr>\n",
       "    <tr>\n",
       "      <th>8</th>\n",
       "      <td>OnePlus</td>\n",
       "      <td>4.3</td>\n",
       "      <td>101256</td>\n",
       "      <td>9189</td>\n",
       "      <td>25999</td>\n",
       "      <td>31999</td>\n",
       "      <td>Netflix|Prime Video|Disney+Hotstar|Youtube</td>\n",
       "      <td>Operating System: Android</td>\n",
       "      <td>Full HD 1920 x 1080 Pixels</td>\n",
       "      <td>20 W Speaker Output</td>\n",
       "      <td>60 Hz Refresh Rate</td>\n",
       "      <td>0.090750</td>\n",
       "      <td>31999</td>\n",
       "      <td>0.812494</td>\n",
       "      <td>1</td>\n",
       "      <td>1</td>\n",
       "      <td>0</td>\n",
       "    </tr>\n",
       "    <tr>\n",
       "      <th>9</th>\n",
       "      <td>Vu</td>\n",
       "      <td>4.4</td>\n",
       "      <td>32043</td>\n",
       "      <td>4978</td>\n",
       "      <td>30990</td>\n",
       "      <td>45000</td>\n",
       "      <td>Netflix|Prime Video|Disney+Hotstar|Youtube</td>\n",
       "      <td>Operating System: Android</td>\n",
       "      <td>Ultra HD (4K) 3840 x 2160 Pixels</td>\n",
       "      <td>30 W Speaker Output</td>\n",
       "      <td>60 Hz Refresh Rate</td>\n",
       "      <td>0.155354</td>\n",
       "      <td>45000</td>\n",
       "      <td>0.688667</td>\n",
       "      <td>1</td>\n",
       "      <td>1</td>\n",
       "      <td>1</td>\n",
       "    </tr>\n",
       "  </tbody>\n",
       "</table>\n",
       "</div>"
      ],
      "text/plain": [
       "  Product_Name  Stars  Ratings  Reviews  current_price    MRP  \\\n",
       "0        Adsun    3.8     6742      930           8699  21999   \n",
       "1           LG    4.4    38870     3443          16499  21990   \n",
       "2      OnePlus    4.3   101256     9189          16499  21999   \n",
       "3       Xiaomi    4.3     3120      305          15499  24999   \n",
       "4      SAMSUNG    4.4    53639     4811          15999  22900   \n",
       "5      OnePlus    4.3   101256     9189          15499  19999   \n",
       "6        Croma    4.2        0        0          11990  25000   \n",
       "7           LG    4.4     5830      698          32990  59990   \n",
       "8      OnePlus    4.3   101256     9189          25999  31999   \n",
       "9           Vu    4.4    32043     4978          30990  45000   \n",
       "\n",
       "                                      channel  \\\n",
       "0              Netflix|Disney+Hotstar|Youtube   \n",
       "1  Netflix|Prime Video|Disney+Hotstar|Youtube   \n",
       "2  Netflix|Prime Video|Disney+Hotstar|Youtube   \n",
       "3  Netflix|Prime Video|Disney+Hotstar|Youtube   \n",
       "4              Netflix|Disney+Hotstar|Youtube   \n",
       "5  Netflix|Prime Video|Disney+Hotstar|Youtube   \n",
       "6  Netflix|Prime Video|Disney+Hotstar|Youtube   \n",
       "7  Netflix|Prime Video|Disney+Hotstar|Youtube   \n",
       "8  Netflix|Prime Video|Disney+Hotstar|Youtube   \n",
       "9  Netflix|Prime Video|Disney+Hotstar|Youtube   \n",
       "\n",
       "                  Operating_system                   Picture_quality  \\\n",
       "0  Operating System: Android Based        HD Ready 1366 x 768 Pixels   \n",
       "1          Operating System: WebOS        HD Ready 1366 x 768 Pixels   \n",
       "2        Operating System: Android        HD Ready 1366 x 768 Pixels   \n",
       "3        Operating System: Android        HD Ready 1366 x 768 Pixels   \n",
       "4          Operating System: Tizen        HD Ready 1366 x 768 Pixels   \n",
       "5        Operating System: Android        HD Ready 1366 x 768 Pixels   \n",
       "6        Operating System: Android        HD Ready 1366 x 768 Pixels   \n",
       "7          Operating System: WebOS  Ultra HD (4K) 3840 x 2160 Pixels   \n",
       "8        Operating System: Android        Full HD 1920 x 1080 Pixels   \n",
       "9        Operating System: Android  Ultra HD (4K) 3840 x 2160 Pixels   \n",
       "\n",
       "               Speaker           Frequency        x1     x2        x3  x4  x5  \\\n",
       "0  20 W Speaker Output  60 Hz Refresh Rate  0.137941  21999  0.395427   1   0   \n",
       "1  10 W Speaker Output  50 Hz Refresh Rate  0.088577  21990  0.750296   1   1   \n",
       "2  20 W Speaker Output  60 Hz Refresh Rate  0.090750  21999  0.749989   1   1   \n",
       "3  20 W Speaker Output  60 Hz Refresh Rate  0.097756  24999  0.619985   1   1   \n",
       "4  20 W Speaker Output  60 Hz Refresh Rate  0.089692  22900  0.698646   1   0   \n",
       "5  20 W Speaker Output  60 Hz Refresh Rate  0.090750  19999  0.774989   1   1   \n",
       "6    20 Speaker Output  60 Hz Refresh Rate       NaN  25000  0.479600   1   1   \n",
       "7  20 W Speaker Output  60 Hz Refresh Rate  0.119726  59990  0.549925   1   1   \n",
       "8  20 W Speaker Output  60 Hz Refresh Rate  0.090750  31999  0.812494   1   1   \n",
       "9  30 W Speaker Output  60 Hz Refresh Rate  0.155354  45000  0.688667   1   1   \n",
       "\n",
       "   x6  \n",
       "0   0  \n",
       "1   0  \n",
       "2   0  \n",
       "3   0  \n",
       "4   0  \n",
       "5   0  \n",
       "6   0  \n",
       "7   1  \n",
       "8   0  \n",
       "9   1  "
      ]
     },
     "execution_count": 49,
     "metadata": {},
     "output_type": "execute_result"
    }
   ],
   "source": [
    "df_q3.head(10)"
   ]
  },
  {
   "cell_type": "code",
   "execution_count": 50,
   "id": "bf59ee69",
   "metadata": {},
   "outputs": [
    {
     "data": {
      "text/html": [
       "<div>\n",
       "<style scoped>\n",
       "    .dataframe tbody tr th:only-of-type {\n",
       "        vertical-align: middle;\n",
       "    }\n",
       "\n",
       "    .dataframe tbody tr th {\n",
       "        vertical-align: top;\n",
       "    }\n",
       "\n",
       "    .dataframe thead th {\n",
       "        text-align: right;\n",
       "    }\n",
       "</style>\n",
       "<table border=\"1\" class=\"dataframe\">\n",
       "  <thead>\n",
       "    <tr style=\"text-align: right;\">\n",
       "      <th></th>\n",
       "      <th>Stars</th>\n",
       "      <th>x1</th>\n",
       "      <th>x2</th>\n",
       "      <th>x3</th>\n",
       "      <th>x4</th>\n",
       "      <th>x5</th>\n",
       "      <th>x6</th>\n",
       "    </tr>\n",
       "  </thead>\n",
       "  <tbody>\n",
       "    <tr>\n",
       "      <th>0</th>\n",
       "      <td>3.8</td>\n",
       "      <td>0.137941</td>\n",
       "      <td>21999</td>\n",
       "      <td>0.395427</td>\n",
       "      <td>1</td>\n",
       "      <td>0</td>\n",
       "      <td>0</td>\n",
       "    </tr>\n",
       "    <tr>\n",
       "      <th>1</th>\n",
       "      <td>4.4</td>\n",
       "      <td>0.088577</td>\n",
       "      <td>21990</td>\n",
       "      <td>0.750296</td>\n",
       "      <td>1</td>\n",
       "      <td>1</td>\n",
       "      <td>0</td>\n",
       "    </tr>\n",
       "  </tbody>\n",
       "</table>\n",
       "</div>"
      ],
      "text/plain": [
       "   Stars        x1     x2        x3  x4  x5  x6\n",
       "0    3.8  0.137941  21999  0.395427   1   0   0\n",
       "1    4.4  0.088577  21990  0.750296   1   1   0"
      ]
     },
     "execution_count": 50,
     "metadata": {},
     "output_type": "execute_result"
    }
   ],
   "source": [
    "df_model = df_q3[[\"Stars\", \"x1\", \"x2\", \"x3\", \"x4\", \"x5\", \"x6\"]]\n",
    "df_model.head(2)"
   ]
  },
  {
   "cell_type": "code",
   "execution_count": 51,
   "id": "bf93db9b",
   "metadata": {},
   "outputs": [
    {
     "data": {
      "text/plain": [
       "548"
      ]
     },
     "execution_count": 51,
     "metadata": {},
     "output_type": "execute_result"
    }
   ],
   "source": [
    "len(df_model)"
   ]
  },
  {
   "cell_type": "code",
   "execution_count": 52,
   "id": "9ff4e429",
   "metadata": {},
   "outputs": [
    {
     "data": {
      "text/plain": [
       "Stars      0\n",
       "x1       351\n",
       "x2         0\n",
       "x3         0\n",
       "x4         0\n",
       "x5         0\n",
       "x6         0\n",
       "dtype: int64"
      ]
     },
     "execution_count": 52,
     "metadata": {},
     "output_type": "execute_result"
    }
   ],
   "source": [
    "df_model.isna().sum()"
   ]
  },
  {
   "cell_type": "code",
   "execution_count": 53,
   "id": "e0719c65",
   "metadata": {},
   "outputs": [
    {
     "data": {
      "text/plain": [
       "197"
      ]
     },
     "execution_count": 53,
     "metadata": {},
     "output_type": "execute_result"
    }
   ],
   "source": [
    "df_model = df_model.dropna()\n",
    "len(df_model)"
   ]
  },
  {
   "cell_type": "code",
   "execution_count": 54,
   "id": "d67d98d7",
   "metadata": {},
   "outputs": [
    {
     "data": {
      "text/plain": [
       "RandomForestRegressor(random_state=123)"
      ]
     },
     "execution_count": 54,
     "metadata": {},
     "output_type": "execute_result"
    }
   ],
   "source": [
    "model_rf = RandomForestRegressor(random_state = 123)\n",
    "model_rf.fit(X = df_model.drop(columns = \"Stars\"),\n",
    "             y = df_model[\"Stars\"])"
   ]
  },
  {
   "cell_type": "code",
   "execution_count": 55,
   "id": "bc9a746f",
   "metadata": {},
   "outputs": [
    {
     "data": {
      "text/plain": [
       "array([0.31220617, 0.17383963, 0.4446912 , 0.02714087, 0.02400442,\n",
       "       0.01811773])"
      ]
     },
     "execution_count": 55,
     "metadata": {},
     "output_type": "execute_result"
    }
   ],
   "source": [
    "model_rf.feature_importances_"
   ]
  },
  {
   "cell_type": "code",
   "execution_count": 56,
   "id": "91a0b92d",
   "metadata": {},
   "outputs": [
    {
     "data": {
      "text/html": [
       "<div>\n",
       "<style scoped>\n",
       "    .dataframe tbody tr th:only-of-type {\n",
       "        vertical-align: middle;\n",
       "    }\n",
       "\n",
       "    .dataframe tbody tr th {\n",
       "        vertical-align: top;\n",
       "    }\n",
       "\n",
       "    .dataframe thead th {\n",
       "        text-align: right;\n",
       "    }\n",
       "</style>\n",
       "<table border=\"1\" class=\"dataframe\">\n",
       "  <thead>\n",
       "    <tr style=\"text-align: right;\">\n",
       "      <th></th>\n",
       "      <th>x1</th>\n",
       "      <th>x2</th>\n",
       "      <th>x3</th>\n",
       "      <th>x4</th>\n",
       "      <th>x5</th>\n",
       "      <th>x6</th>\n",
       "    </tr>\n",
       "  </thead>\n",
       "  <tbody>\n",
       "    <tr>\n",
       "      <th>0</th>\n",
       "      <td>0.312206</td>\n",
       "      <td>0.17384</td>\n",
       "      <td>0.444691</td>\n",
       "      <td>0.027141</td>\n",
       "      <td>0.024004</td>\n",
       "      <td>0.018118</td>\n",
       "    </tr>\n",
       "  </tbody>\n",
       "</table>\n",
       "</div>"
      ],
      "text/plain": [
       "         x1       x2        x3        x4        x5        x6\n",
       "0  0.312206  0.17384  0.444691  0.027141  0.024004  0.018118"
      ]
     },
     "execution_count": 56,
     "metadata": {},
     "output_type": "execute_result"
    }
   ],
   "source": [
    "pd.DataFrame([model_rf.feature_importances_],\n",
    "             columns = df_model.columns[1:])"
   ]
  },
  {
   "cell_type": "code",
   "execution_count": null,
   "id": "e6d01128",
   "metadata": {},
   "outputs": [],
   "source": []
  },
  {
   "cell_type": "code",
   "execution_count": 78,
   "id": "bc2ef810",
   "metadata": {},
   "outputs": [
    {
     "data": {
      "text/html": [
       "<div>\n",
       "<style scoped>\n",
       "    .dataframe tbody tr th:only-of-type {\n",
       "        vertical-align: middle;\n",
       "    }\n",
       "\n",
       "    .dataframe tbody tr th {\n",
       "        vertical-align: top;\n",
       "    }\n",
       "\n",
       "    .dataframe thead th {\n",
       "        text-align: right;\n",
       "    }\n",
       "</style>\n",
       "<table border=\"1\" class=\"dataframe\">\n",
       "  <thead>\n",
       "    <tr style=\"text-align: right;\">\n",
       "      <th></th>\n",
       "      <th>Frequency</th>\n",
       "      <th>Picture_quality</th>\n",
       "      <th>Speaker</th>\n",
       "    </tr>\n",
       "  </thead>\n",
       "  <tbody>\n",
       "    <tr>\n",
       "      <td>0</td>\n",
       "      <td>1 Year Warranty</td>\n",
       "      <td>60 Hz Refresh Rate</td>\n",
       "      <td>2 x HDMI | 2 x USB</td>\n",
       "    </tr>\n",
       "    <tr>\n",
       "      <td>1</td>\n",
       "      <td>60 Hz Refresh Rate</td>\n",
       "      <td>HD Ready 1366 x 768 Pixels</td>\n",
       "      <td>20 W Speaker Output</td>\n",
       "    </tr>\n",
       "  </tbody>\n",
       "</table>\n",
       "</div>"
      ],
      "text/plain": [
       "            Frequency             Picture_quality              Speaker\n",
       "0     1 Year Warranty          60 Hz Refresh Rate   2 x HDMI | 2 x USB\n",
       "1  60 Hz Refresh Rate  HD Ready 1366 x 768 Pixels  20 W Speaker Output"
      ]
     },
     "execution_count": 78,
     "metadata": {},
     "output_type": "execute_result"
    }
   ],
   "source": [
    "df_q1 = df[[\"Frequency\", \"Picture_quality\", \"Speaker\"]].copy()\n",
    "df_q1.head(2)"
   ]
  },
  {
   "cell_type": "code",
   "execution_count": 81,
   "id": "6537c496",
   "metadata": {},
   "outputs": [
    {
     "data": {
      "text/plain": [
       "0    60 Hz Refresh Rate\n",
       "1    60 Hz Refresh Rate\n",
       "dtype: object"
      ]
     },
     "execution_count": 81,
     "metadata": {},
     "output_type": "execute_result"
    }
   ],
   "source": [
    "df_q1.iloc[:2, ].apply(lambda x: x[x.str.contains(\"60 Hz\")].values[0],\n",
    "                           axis = 1)"
   ]
  },
  {
   "cell_type": "code",
   "execution_count": 83,
   "id": "3169a608",
   "metadata": {},
   "outputs": [],
   "source": [
    "df_q1[\"val\"] = df_q1.apply(lambda x: x[x.str.contains(\"60 Hz\")].values,\n",
    "                           axis = 1)"
   ]
  },
  {
   "cell_type": "code",
   "execution_count": 85,
   "id": "db18d491",
   "metadata": {},
   "outputs": [
    {
     "data": {
      "text/plain": [
       "666"
      ]
     },
     "execution_count": 85,
     "metadata": {},
     "output_type": "execute_result"
    }
   ],
   "source": [
    "len(df_q1[\"val\"])"
   ]
  },
  {
   "cell_type": "code",
   "execution_count": 86,
   "id": "58bd595b",
   "metadata": {},
   "outputs": [
    {
     "data": {
      "text/plain": [
       "666"
      ]
     },
     "execution_count": 86,
     "metadata": {},
     "output_type": "execute_result"
    }
   ],
   "source": [
    "len(df_q1[\"val\"].explode())"
   ]
  },
  {
   "cell_type": "code",
   "execution_count": 88,
   "id": "3fc857b0",
   "metadata": {},
   "outputs": [],
   "source": [
    "df_q1[\"val2\"] = df_q1[\"val\"].explode()"
   ]
  },
  {
   "cell_type": "code",
   "execution_count": 89,
   "id": "9a7fd439",
   "metadata": {},
   "outputs": [
    {
     "data": {
      "text/html": [
       "<div>\n",
       "<style scoped>\n",
       "    .dataframe tbody tr th:only-of-type {\n",
       "        vertical-align: middle;\n",
       "    }\n",
       "\n",
       "    .dataframe tbody tr th {\n",
       "        vertical-align: top;\n",
       "    }\n",
       "\n",
       "    .dataframe thead th {\n",
       "        text-align: right;\n",
       "    }\n",
       "</style>\n",
       "<table border=\"1\" class=\"dataframe\">\n",
       "  <thead>\n",
       "    <tr style=\"text-align: right;\">\n",
       "      <th></th>\n",
       "      <th>Frequency</th>\n",
       "      <th>Picture_quality</th>\n",
       "      <th>Speaker</th>\n",
       "      <th>val</th>\n",
       "      <th>val2</th>\n",
       "    </tr>\n",
       "  </thead>\n",
       "  <tbody>\n",
       "    <tr>\n",
       "      <td>0</td>\n",
       "      <td>1 Year Warranty</td>\n",
       "      <td>60 Hz Refresh Rate</td>\n",
       "      <td>2 x HDMI | 2 x USB</td>\n",
       "      <td>[60 Hz Refresh Rate]</td>\n",
       "      <td>60 Hz Refresh Rate</td>\n",
       "    </tr>\n",
       "    <tr>\n",
       "      <td>1</td>\n",
       "      <td>60 Hz Refresh Rate</td>\n",
       "      <td>HD Ready 1366 x 768 Pixels</td>\n",
       "      <td>20 W Speaker Output</td>\n",
       "      <td>[60 Hz Refresh Rate]</td>\n",
       "      <td>60 Hz Refresh Rate</td>\n",
       "    </tr>\n",
       "    <tr>\n",
       "      <td>2</td>\n",
       "      <td>50 Hz Refresh Rate</td>\n",
       "      <td>HD Ready 1366 x 768 Pixels</td>\n",
       "      <td>10 W Speaker Output</td>\n",
       "      <td>[]</td>\n",
       "      <td>NaN</td>\n",
       "    </tr>\n",
       "    <tr>\n",
       "      <td>3</td>\n",
       "      <td>60 Hz Refresh Rate</td>\n",
       "      <td>HD Ready 1366 x 768 Pixels</td>\n",
       "      <td>20 W Speaker Output</td>\n",
       "      <td>[60 Hz Refresh Rate]</td>\n",
       "      <td>60 Hz Refresh Rate</td>\n",
       "    </tr>\n",
       "    <tr>\n",
       "      <td>4</td>\n",
       "      <td>60 Hz Refresh Rate</td>\n",
       "      <td>HD Ready 1366 x 768 Pixels</td>\n",
       "      <td>20 W Speaker Output</td>\n",
       "      <td>[60 Hz Refresh Rate]</td>\n",
       "      <td>60 Hz Refresh Rate</td>\n",
       "    </tr>\n",
       "    <tr>\n",
       "      <td>5</td>\n",
       "      <td>60 Hz Refresh Rate</td>\n",
       "      <td>HD Ready 1366 x 768 Pixels</td>\n",
       "      <td>20 W Speaker Output</td>\n",
       "      <td>[60 Hz Refresh Rate]</td>\n",
       "      <td>60 Hz Refresh Rate</td>\n",
       "    </tr>\n",
       "    <tr>\n",
       "      <td>6</td>\n",
       "      <td>60 Hz Refresh Rate</td>\n",
       "      <td>HD Ready 1366 x 768 Pixels</td>\n",
       "      <td>20 W Speaker Output</td>\n",
       "      <td>[60 Hz Refresh Rate]</td>\n",
       "      <td>60 Hz Refresh Rate</td>\n",
       "    </tr>\n",
       "    <tr>\n",
       "      <td>7</td>\n",
       "      <td>60 Hz Refresh Rate</td>\n",
       "      <td>HD Ready 1366 x 768 Pixels</td>\n",
       "      <td>20 Speaker Output</td>\n",
       "      <td>[60 Hz Refresh Rate]</td>\n",
       "      <td>60 Hz Refresh Rate</td>\n",
       "    </tr>\n",
       "    <tr>\n",
       "      <td>8</td>\n",
       "      <td>60 Hz Refresh Rate</td>\n",
       "      <td>Ultra HD (4K) 3840 x 2160 Pixels</td>\n",
       "      <td>20 W Speaker Output</td>\n",
       "      <td>[60 Hz Refresh Rate]</td>\n",
       "      <td>60 Hz Refresh Rate</td>\n",
       "    </tr>\n",
       "    <tr>\n",
       "      <td>9</td>\n",
       "      <td>60 Hz Refresh Rate</td>\n",
       "      <td>Full HD 1920 x 1080 Pixels</td>\n",
       "      <td>20 W Speaker Output</td>\n",
       "      <td>[60 Hz Refresh Rate]</td>\n",
       "      <td>60 Hz Refresh Rate</td>\n",
       "    </tr>\n",
       "  </tbody>\n",
       "</table>\n",
       "</div>"
      ],
      "text/plain": [
       "            Frequency                   Picture_quality              Speaker  \\\n",
       "0     1 Year Warranty                60 Hz Refresh Rate   2 x HDMI | 2 x USB   \n",
       "1  60 Hz Refresh Rate        HD Ready 1366 x 768 Pixels  20 W Speaker Output   \n",
       "2  50 Hz Refresh Rate        HD Ready 1366 x 768 Pixels  10 W Speaker Output   \n",
       "3  60 Hz Refresh Rate        HD Ready 1366 x 768 Pixels  20 W Speaker Output   \n",
       "4  60 Hz Refresh Rate        HD Ready 1366 x 768 Pixels  20 W Speaker Output   \n",
       "5  60 Hz Refresh Rate        HD Ready 1366 x 768 Pixels  20 W Speaker Output   \n",
       "6  60 Hz Refresh Rate        HD Ready 1366 x 768 Pixels  20 W Speaker Output   \n",
       "7  60 Hz Refresh Rate        HD Ready 1366 x 768 Pixels    20 Speaker Output   \n",
       "8  60 Hz Refresh Rate  Ultra HD (4K) 3840 x 2160 Pixels  20 W Speaker Output   \n",
       "9  60 Hz Refresh Rate        Full HD 1920 x 1080 Pixels  20 W Speaker Output   \n",
       "\n",
       "                    val                val2  \n",
       "0  [60 Hz Refresh Rate]  60 Hz Refresh Rate  \n",
       "1  [60 Hz Refresh Rate]  60 Hz Refresh Rate  \n",
       "2                    []                 NaN  \n",
       "3  [60 Hz Refresh Rate]  60 Hz Refresh Rate  \n",
       "4  [60 Hz Refresh Rate]  60 Hz Refresh Rate  \n",
       "5  [60 Hz Refresh Rate]  60 Hz Refresh Rate  \n",
       "6  [60 Hz Refresh Rate]  60 Hz Refresh Rate  \n",
       "7  [60 Hz Refresh Rate]  60 Hz Refresh Rate  \n",
       "8  [60 Hz Refresh Rate]  60 Hz Refresh Rate  \n",
       "9  [60 Hz Refresh Rate]  60 Hz Refresh Rate  "
      ]
     },
     "execution_count": 89,
     "metadata": {},
     "output_type": "execute_result"
    }
   ],
   "source": [
    "df_q1.head(10)"
   ]
  }
 ],
 "metadata": {
  "kernelspec": {
   "display_name": "Python 3 (ipykernel)",
   "language": "python",
   "name": "python3"
  },
  "language_info": {
   "codemirror_mode": {
    "name": "ipython",
    "version": 3
   },
   "file_extension": ".py",
   "mimetype": "text/x-python",
   "name": "python",
   "nbconvert_exporter": "python",
   "pygments_lexer": "ipython3",
   "version": "3.9.13"
  }
 },
 "nbformat": 4,
 "nbformat_minor": 5
}
